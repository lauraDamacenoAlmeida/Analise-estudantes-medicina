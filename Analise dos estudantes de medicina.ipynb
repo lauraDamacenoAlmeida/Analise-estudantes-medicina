{
 "cells": [
  {
   "cell_type": "markdown",
   "id": "d7144a26",
   "metadata": {},
   "source": [
    "<hr>\n",
    "<br><br>\n",
    "    <h1 align=center><font size = 5>Exercício prático - Semana 2 (Quinta)\n",
    "    <br><br>&nbsp;&nbsp;&nbsp;&nbsp;&nbsp;&nbsp;&nbsp;\n",
    "    Análise dos estudantes de medicina</font></h1>\n",
    "<br><br>"
   ]
  },
  {
   "cell_type": "markdown",
   "id": "9ce4b78d",
   "metadata": {},
   "source": [
    "#### Perguntas que iremos responder"
   ]
  },
  {
   "cell_type": "markdown",
   "id": "f0cd0411",
   "metadata": {},
   "source": [
    "<aside>\n",
    "\n",
    "- Qual o significado das variáveis do dataframe?\n",
    "- Quais os tipos de variáveis você tem?\n",
    "- Tem estudante duplicado?\n",
    "- A base tem dados nulos? Se sim, vamos tratar\n",
    "- O tipo das variáveis está certo?\n",
    "- Qual a média da idade dos estudantes de medicina?\n",
    "- Qual percentual por gênero dos estudantes?\n",
    "- Qual o tipo sanguineo mais comum entre os estudantes?\n",
    "- A maioria dos estudantes tem diabetes?\n",
    "- Qual percentual de homens e mulheres que fumam?\n",
    "- Qual percentual de homens e mulheres que tem diabetes?\n",
    "- Qual a distribuição da massa corporal dos estudantes?\n",
    "- Qual a distribuição das idades dos estudantes? É assimétrico?\n",
    "- Qual a distribuição das idades dos estudantes por gênero?\n",
    "- Qual a distribuição do colesterol dos estudantes? É assimétrico?\n",
    "- Qual a distribuição do colesterol dos estudantes por gênero?\n",
    "- Qual a distribuição do peso dos estudantes? É assimétrico?\n",
    "- Qual a distribuição da altura dos estudantes? É assimétrico?\n",
    "- Qual o principal tipo sanguineo dos estudantes masculinos?\n",
    "</aside>"
   ]
  },
  {
   "cell_type": "markdown",
   "id": "17b1ba5c",
   "metadata": {},
   "source": [
    "## 1. Preparação do ambiente <a id=\"1\"></a>\n"
   ]
  },
  {
   "cell_type": "markdown",
   "id": "d2957aff",
   "metadata": {},
   "source": [
    "<h4>1.1 Importação de bibliotecas:</h4><a id=\"11\"></a>\n"
   ]
  },
  {
   "cell_type": "code",
   "execution_count": 1,
   "id": "67bde092",
   "metadata": {},
   "outputs": [],
   "source": [
    "import pandas as pd\n",
    "import matplotlib.pyplot as plt\n",
    "import seaborn as sns"
   ]
  },
  {
   "cell_type": "markdown",
   "id": "3c7b0d03",
   "metadata": {},
   "source": [
    "<h4>1.2 Leitura de dados:</h4> <a id=\"12\"></a>"
   ]
  },
  {
   "cell_type": "code",
   "execution_count": 2,
   "id": "bfe35987",
   "metadata": {},
   "outputs": [
    {
     "data": {
      "text/html": [
       "<div>\n",
       "<style scoped>\n",
       "    .dataframe tbody tr th:only-of-type {\n",
       "        vertical-align: middle;\n",
       "    }\n",
       "\n",
       "    .dataframe tbody tr th {\n",
       "        vertical-align: top;\n",
       "    }\n",
       "\n",
       "    .dataframe thead th {\n",
       "        text-align: right;\n",
       "    }\n",
       "</style>\n",
       "<table border=\"1\" class=\"dataframe\">\n",
       "  <thead>\n",
       "    <tr style=\"text-align: right;\">\n",
       "      <th></th>\n",
       "      <th>Student ID</th>\n",
       "      <th>Age</th>\n",
       "      <th>Gender</th>\n",
       "      <th>Height</th>\n",
       "      <th>Weight</th>\n",
       "      <th>Blood Type</th>\n",
       "      <th>BMI</th>\n",
       "      <th>Temperature</th>\n",
       "      <th>Heart Rate</th>\n",
       "      <th>Blood Pressure</th>\n",
       "      <th>Cholesterol</th>\n",
       "      <th>Diabetes</th>\n",
       "      <th>Smoking</th>\n",
       "    </tr>\n",
       "  </thead>\n",
       "  <tbody>\n",
       "    <tr>\n",
       "      <th>0</th>\n",
       "      <td>1.0</td>\n",
       "      <td>18.0</td>\n",
       "      <td>Female</td>\n",
       "      <td>161.777924</td>\n",
       "      <td>72.354947</td>\n",
       "      <td>O</td>\n",
       "      <td>27.645835</td>\n",
       "      <td>NaN</td>\n",
       "      <td>95.0</td>\n",
       "      <td>109.0</td>\n",
       "      <td>203.0</td>\n",
       "      <td>No</td>\n",
       "      <td>NaN</td>\n",
       "    </tr>\n",
       "    <tr>\n",
       "      <th>1</th>\n",
       "      <td>2.0</td>\n",
       "      <td>NaN</td>\n",
       "      <td>Male</td>\n",
       "      <td>152.069157</td>\n",
       "      <td>47.630941</td>\n",
       "      <td>B</td>\n",
       "      <td>NaN</td>\n",
       "      <td>98.714977</td>\n",
       "      <td>93.0</td>\n",
       "      <td>104.0</td>\n",
       "      <td>163.0</td>\n",
       "      <td>No</td>\n",
       "      <td>No</td>\n",
       "    </tr>\n",
       "    <tr>\n",
       "      <th>2</th>\n",
       "      <td>3.0</td>\n",
       "      <td>32.0</td>\n",
       "      <td>Female</td>\n",
       "      <td>182.537664</td>\n",
       "      <td>55.741083</td>\n",
       "      <td>A</td>\n",
       "      <td>16.729017</td>\n",
       "      <td>98.260293</td>\n",
       "      <td>76.0</td>\n",
       "      <td>130.0</td>\n",
       "      <td>216.0</td>\n",
       "      <td>Yes</td>\n",
       "      <td>No</td>\n",
       "    </tr>\n",
       "    <tr>\n",
       "      <th>3</th>\n",
       "      <td>NaN</td>\n",
       "      <td>30.0</td>\n",
       "      <td>Male</td>\n",
       "      <td>182.112867</td>\n",
       "      <td>63.332207</td>\n",
       "      <td>B</td>\n",
       "      <td>19.096042</td>\n",
       "      <td>98.839605</td>\n",
       "      <td>99.0</td>\n",
       "      <td>112.0</td>\n",
       "      <td>141.0</td>\n",
       "      <td>No</td>\n",
       "      <td>Yes</td>\n",
       "    </tr>\n",
       "    <tr>\n",
       "      <th>4</th>\n",
       "      <td>5.0</td>\n",
       "      <td>23.0</td>\n",
       "      <td>Female</td>\n",
       "      <td>NaN</td>\n",
       "      <td>46.234173</td>\n",
       "      <td>O</td>\n",
       "      <td>NaN</td>\n",
       "      <td>98.480008</td>\n",
       "      <td>95.0</td>\n",
       "      <td>NaN</td>\n",
       "      <td>231.0</td>\n",
       "      <td>No</td>\n",
       "      <td>No</td>\n",
       "    </tr>\n",
       "  </tbody>\n",
       "</table>\n",
       "</div>"
      ],
      "text/plain": [
       "   Student ID   Age  Gender      Height     Weight Blood Type        BMI  \\\n",
       "0         1.0  18.0  Female  161.777924  72.354947          O  27.645835   \n",
       "1         2.0   NaN    Male  152.069157  47.630941          B        NaN   \n",
       "2         3.0  32.0  Female  182.537664  55.741083          A  16.729017   \n",
       "3         NaN  30.0    Male  182.112867  63.332207          B  19.096042   \n",
       "4         5.0  23.0  Female         NaN  46.234173          O        NaN   \n",
       "\n",
       "   Temperature  Heart Rate  Blood Pressure  Cholesterol Diabetes Smoking  \n",
       "0          NaN        95.0           109.0        203.0       No     NaN  \n",
       "1    98.714977        93.0           104.0        163.0       No      No  \n",
       "2    98.260293        76.0           130.0        216.0      Yes      No  \n",
       "3    98.839605        99.0           112.0        141.0       No     Yes  \n",
       "4    98.480008        95.0             NaN        231.0       No      No  "
      ]
     },
     "execution_count": 2,
     "metadata": {},
     "output_type": "execute_result"
    }
   ],
   "source": [
    "df = pd.read_csv('medical_students_dataset.csv')\n",
    "df.head()"
   ]
  },
  {
   "cell_type": "code",
   "execution_count": 3,
   "id": "eaf3dfad",
   "metadata": {},
   "outputs": [
    {
     "data": {
      "text/plain": [
       "(200000, 13)"
      ]
     },
     "execution_count": 3,
     "metadata": {},
     "output_type": "execute_result"
    }
   ],
   "source": [
    "df.shape"
   ]
  },
  {
   "cell_type": "markdown",
   "id": "3726f4fc",
   "metadata": {},
   "source": [
    "Temos 13 variáveis disponíveis e aparentemente 200.000 estudantes"
   ]
  },
  {
   "cell_type": "markdown",
   "id": "a344acb8",
   "metadata": {},
   "source": [
    "<h4>1.3  Identificação de valores faltantes</h4> <a id=\"12\"></a>"
   ]
  },
  {
   "cell_type": "code",
   "execution_count": 4,
   "id": "11b1a91e",
   "metadata": {},
   "outputs": [
    {
     "data": {
      "text/html": [
       "<div>\n",
       "<style scoped>\n",
       "    .dataframe tbody tr th:only-of-type {\n",
       "        vertical-align: middle;\n",
       "    }\n",
       "\n",
       "    .dataframe tbody tr th {\n",
       "        vertical-align: top;\n",
       "    }\n",
       "\n",
       "    .dataframe thead th {\n",
       "        text-align: right;\n",
       "    }\n",
       "</style>\n",
       "<table border=\"1\" class=\"dataframe\">\n",
       "  <thead>\n",
       "    <tr style=\"text-align: right;\">\n",
       "      <th></th>\n",
       "      <th>index</th>\n",
       "      <th>colunas</th>\n",
       "      <th>tipo</th>\n",
       "      <th>Qtde valores NaN</th>\n",
       "      <th>% valores NaN</th>\n",
       "      <th>valores únicos por feature</th>\n",
       "    </tr>\n",
       "  </thead>\n",
       "  <tbody>\n",
       "    <tr>\n",
       "      <th>0</th>\n",
       "      <td>Student ID</td>\n",
       "      <td>Student ID</td>\n",
       "      <td>float64</td>\n",
       "      <td>20000</td>\n",
       "      <td>0.1</td>\n",
       "      <td>98976</td>\n",
       "    </tr>\n",
       "    <tr>\n",
       "      <th>1</th>\n",
       "      <td>Age</td>\n",
       "      <td>Age</td>\n",
       "      <td>float64</td>\n",
       "      <td>20000</td>\n",
       "      <td>0.1</td>\n",
       "      <td>17</td>\n",
       "    </tr>\n",
       "    <tr>\n",
       "      <th>2</th>\n",
       "      <td>Gender</td>\n",
       "      <td>Gender</td>\n",
       "      <td>object</td>\n",
       "      <td>20000</td>\n",
       "      <td>0.1</td>\n",
       "      <td>2</td>\n",
       "    </tr>\n",
       "    <tr>\n",
       "      <th>3</th>\n",
       "      <td>Height</td>\n",
       "      <td>Height</td>\n",
       "      <td>float64</td>\n",
       "      <td>20000</td>\n",
       "      <td>0.1</td>\n",
       "      <td>98992</td>\n",
       "    </tr>\n",
       "    <tr>\n",
       "      <th>4</th>\n",
       "      <td>Weight</td>\n",
       "      <td>Weight</td>\n",
       "      <td>float64</td>\n",
       "      <td>20000</td>\n",
       "      <td>0.1</td>\n",
       "      <td>99026</td>\n",
       "    </tr>\n",
       "    <tr>\n",
       "      <th>5</th>\n",
       "      <td>Blood Type</td>\n",
       "      <td>Blood Type</td>\n",
       "      <td>object</td>\n",
       "      <td>20000</td>\n",
       "      <td>0.1</td>\n",
       "      <td>4</td>\n",
       "    </tr>\n",
       "    <tr>\n",
       "      <th>6</th>\n",
       "      <td>BMI</td>\n",
       "      <td>BMI</td>\n",
       "      <td>float64</td>\n",
       "      <td>20000</td>\n",
       "      <td>0.1</td>\n",
       "      <td>98983</td>\n",
       "    </tr>\n",
       "    <tr>\n",
       "      <th>7</th>\n",
       "      <td>Temperature</td>\n",
       "      <td>Temperature</td>\n",
       "      <td>float64</td>\n",
       "      <td>20000</td>\n",
       "      <td>0.1</td>\n",
       "      <td>99006</td>\n",
       "    </tr>\n",
       "    <tr>\n",
       "      <th>8</th>\n",
       "      <td>Heart Rate</td>\n",
       "      <td>Heart Rate</td>\n",
       "      <td>float64</td>\n",
       "      <td>20000</td>\n",
       "      <td>0.1</td>\n",
       "      <td>40</td>\n",
       "    </tr>\n",
       "    <tr>\n",
       "      <th>9</th>\n",
       "      <td>Blood Pressure</td>\n",
       "      <td>Blood Pressure</td>\n",
       "      <td>float64</td>\n",
       "      <td>20000</td>\n",
       "      <td>0.1</td>\n",
       "      <td>50</td>\n",
       "    </tr>\n",
       "    <tr>\n",
       "      <th>10</th>\n",
       "      <td>Cholesterol</td>\n",
       "      <td>Cholesterol</td>\n",
       "      <td>float64</td>\n",
       "      <td>20000</td>\n",
       "      <td>0.1</td>\n",
       "      <td>130</td>\n",
       "    </tr>\n",
       "    <tr>\n",
       "      <th>11</th>\n",
       "      <td>Diabetes</td>\n",
       "      <td>Diabetes</td>\n",
       "      <td>object</td>\n",
       "      <td>20000</td>\n",
       "      <td>0.1</td>\n",
       "      <td>2</td>\n",
       "    </tr>\n",
       "    <tr>\n",
       "      <th>12</th>\n",
       "      <td>Smoking</td>\n",
       "      <td>Smoking</td>\n",
       "      <td>object</td>\n",
       "      <td>20000</td>\n",
       "      <td>0.1</td>\n",
       "      <td>2</td>\n",
       "    </tr>\n",
       "  </tbody>\n",
       "</table>\n",
       "</div>"
      ],
      "text/plain": [
       "             index         colunas     tipo  Qtde valores NaN  % valores NaN  \\\n",
       "0       Student ID      Student ID  float64             20000            0.1   \n",
       "1              Age             Age  float64             20000            0.1   \n",
       "2           Gender          Gender   object             20000            0.1   \n",
       "3           Height          Height  float64             20000            0.1   \n",
       "4           Weight          Weight  float64             20000            0.1   \n",
       "5       Blood Type      Blood Type   object             20000            0.1   \n",
       "6              BMI             BMI  float64             20000            0.1   \n",
       "7      Temperature     Temperature  float64             20000            0.1   \n",
       "8       Heart Rate      Heart Rate  float64             20000            0.1   \n",
       "9   Blood Pressure  Blood Pressure  float64             20000            0.1   \n",
       "10     Cholesterol     Cholesterol  float64             20000            0.1   \n",
       "11        Diabetes        Diabetes   object             20000            0.1   \n",
       "12         Smoking         Smoking   object             20000            0.1   \n",
       "\n",
       "    valores únicos por feature  \n",
       "0                        98976  \n",
       "1                           17  \n",
       "2                            2  \n",
       "3                        98992  \n",
       "4                        99026  \n",
       "5                            4  \n",
       "6                        98983  \n",
       "7                        99006  \n",
       "8                           40  \n",
       "9                           50  \n",
       "10                         130  \n",
       "11                           2  \n",
       "12                           2  "
      ]
     },
     "execution_count": 4,
     "metadata": {},
     "output_type": "execute_result"
    }
   ],
   "source": [
    "faltantes = pd.DataFrame({'colunas':df.columns, \n",
    "                      'tipo':df.dtypes,\n",
    "                      'Qtde valores NaN':df.isna().sum(),\n",
    "                      '% valores NaN':df.isna().sum()/df.shape[0],\n",
    "                      'valores únicos por feature':df.nunique()})\n",
    "faltantes = faltantes.reset_index()\n",
    "faltantes"
   ]
  },
  {
   "cell_type": "markdown",
   "id": "6f303d2d",
   "metadata": {},
   "source": [
    "Temos valores faltantes nas em todas as variáveis do dataframe"
   ]
  },
  {
   "cell_type": "markdown",
   "id": "d8bb38ec",
   "metadata": {},
   "source": [
    "As variáveis que estão com tipos errados é o ID do estudante e a idade (Age) que deveriam ser em um formato Int (inteiro) ao invés de float"
   ]
  },
  {
   "cell_type": "markdown",
   "id": "575befaf",
   "metadata": {},
   "source": [
    "Mas antes de tratar o tipo, é necessário tratar os nulos"
   ]
  },
  {
   "cell_type": "markdown",
   "id": "ca7a8659",
   "metadata": {},
   "source": [
    "<h4>1.4  Tratando valores faltantes</h4> <a id=\"12\"></a>"
   ]
  },
  {
   "cell_type": "code",
   "execution_count": 6,
   "id": "9e48f80f",
   "metadata": {},
   "outputs": [
    {
     "data": {
      "text/html": [
       "<div>\n",
       "<style scoped>\n",
       "    .dataframe tbody tr th:only-of-type {\n",
       "        vertical-align: middle;\n",
       "    }\n",
       "\n",
       "    .dataframe tbody tr th {\n",
       "        vertical-align: top;\n",
       "    }\n",
       "\n",
       "    .dataframe thead th {\n",
       "        text-align: right;\n",
       "    }\n",
       "</style>\n",
       "<table border=\"1\" class=\"dataframe\">\n",
       "  <thead>\n",
       "    <tr style=\"text-align: right;\">\n",
       "      <th></th>\n",
       "      <th>Student ID</th>\n",
       "      <th>Age</th>\n",
       "      <th>Gender</th>\n",
       "      <th>Height</th>\n",
       "      <th>Weight</th>\n",
       "      <th>Blood Type</th>\n",
       "      <th>BMI</th>\n",
       "      <th>Temperature</th>\n",
       "      <th>Heart Rate</th>\n",
       "      <th>Blood Pressure</th>\n",
       "      <th>Cholesterol</th>\n",
       "      <th>Diabetes</th>\n",
       "      <th>Smoking</th>\n",
       "    </tr>\n",
       "  </thead>\n",
       "  <tbody>\n",
       "    <tr>\n",
       "      <th>3</th>\n",
       "      <td>NaN</td>\n",
       "      <td>30.0</td>\n",
       "      <td>Male</td>\n",
       "      <td>182.112867</td>\n",
       "      <td>63.332207</td>\n",
       "      <td>B</td>\n",
       "      <td>19.096042</td>\n",
       "      <td>98.839605</td>\n",
       "      <td>99.0</td>\n",
       "      <td>112.0</td>\n",
       "      <td>141.0</td>\n",
       "      <td>No</td>\n",
       "      <td>Yes</td>\n",
       "    </tr>\n",
       "    <tr>\n",
       "      <th>15</th>\n",
       "      <td>NaN</td>\n",
       "      <td>21.0</td>\n",
       "      <td>Male</td>\n",
       "      <td>162.819718</td>\n",
       "      <td>96.385698</td>\n",
       "      <td>B</td>\n",
       "      <td>NaN</td>\n",
       "      <td>98.108563</td>\n",
       "      <td>68.0</td>\n",
       "      <td>126.0</td>\n",
       "      <td>130.0</td>\n",
       "      <td>No</td>\n",
       "      <td>No</td>\n",
       "    </tr>\n",
       "    <tr>\n",
       "      <th>33</th>\n",
       "      <td>NaN</td>\n",
       "      <td>33.0</td>\n",
       "      <td>Male</td>\n",
       "      <td>177.165911</td>\n",
       "      <td>68.129149</td>\n",
       "      <td>O</td>\n",
       "      <td>21.705642</td>\n",
       "      <td>98.201649</td>\n",
       "      <td>NaN</td>\n",
       "      <td>116.0</td>\n",
       "      <td>143.0</td>\n",
       "      <td>Yes</td>\n",
       "      <td>Yes</td>\n",
       "    </tr>\n",
       "    <tr>\n",
       "      <th>39</th>\n",
       "      <td>NaN</td>\n",
       "      <td>24.0</td>\n",
       "      <td>NaN</td>\n",
       "      <td>158.110951</td>\n",
       "      <td>53.034904</td>\n",
       "      <td>B</td>\n",
       "      <td>21.214748</td>\n",
       "      <td>98.448841</td>\n",
       "      <td>78.0</td>\n",
       "      <td>NaN</td>\n",
       "      <td>157.0</td>\n",
       "      <td>No</td>\n",
       "      <td>No</td>\n",
       "    </tr>\n",
       "    <tr>\n",
       "      <th>55</th>\n",
       "      <td>NaN</td>\n",
       "      <td>20.0</td>\n",
       "      <td>Female</td>\n",
       "      <td>164.746140</td>\n",
       "      <td>94.441970</td>\n",
       "      <td>O</td>\n",
       "      <td>34.796418</td>\n",
       "      <td>99.289035</td>\n",
       "      <td>84.0</td>\n",
       "      <td>93.0</td>\n",
       "      <td>240.0</td>\n",
       "      <td>No</td>\n",
       "      <td>No</td>\n",
       "    </tr>\n",
       "    <tr>\n",
       "      <th>...</th>\n",
       "      <td>...</td>\n",
       "      <td>...</td>\n",
       "      <td>...</td>\n",
       "      <td>...</td>\n",
       "      <td>...</td>\n",
       "      <td>...</td>\n",
       "      <td>...</td>\n",
       "      <td>...</td>\n",
       "      <td>...</td>\n",
       "      <td>...</td>\n",
       "      <td>...</td>\n",
       "      <td>...</td>\n",
       "      <td>...</td>\n",
       "    </tr>\n",
       "    <tr>\n",
       "      <th>199917</th>\n",
       "      <td>NaN</td>\n",
       "      <td>30.0</td>\n",
       "      <td>Male</td>\n",
       "      <td>160.993293</td>\n",
       "      <td>48.725905</td>\n",
       "      <td>B</td>\n",
       "      <td>18.799416</td>\n",
       "      <td>98.220218</td>\n",
       "      <td>NaN</td>\n",
       "      <td>91.0</td>\n",
       "      <td>139.0</td>\n",
       "      <td>No</td>\n",
       "      <td>No</td>\n",
       "    </tr>\n",
       "    <tr>\n",
       "      <th>199940</th>\n",
       "      <td>NaN</td>\n",
       "      <td>30.0</td>\n",
       "      <td>NaN</td>\n",
       "      <td>158.451908</td>\n",
       "      <td>75.739627</td>\n",
       "      <td>AB</td>\n",
       "      <td>30.166729</td>\n",
       "      <td>98.089516</td>\n",
       "      <td>73.0</td>\n",
       "      <td>108.0</td>\n",
       "      <td>143.0</td>\n",
       "      <td>No</td>\n",
       "      <td>No</td>\n",
       "    </tr>\n",
       "    <tr>\n",
       "      <th>199941</th>\n",
       "      <td>NaN</td>\n",
       "      <td>NaN</td>\n",
       "      <td>NaN</td>\n",
       "      <td>167.192837</td>\n",
       "      <td>50.169768</td>\n",
       "      <td>NaN</td>\n",
       "      <td>17.947616</td>\n",
       "      <td>97.584901</td>\n",
       "      <td>81.0</td>\n",
       "      <td>107.0</td>\n",
       "      <td>244.0</td>\n",
       "      <td>No</td>\n",
       "      <td>Yes</td>\n",
       "    </tr>\n",
       "    <tr>\n",
       "      <th>199956</th>\n",
       "      <td>NaN</td>\n",
       "      <td>21.0</td>\n",
       "      <td>Female</td>\n",
       "      <td>NaN</td>\n",
       "      <td>91.240475</td>\n",
       "      <td>B</td>\n",
       "      <td>30.272756</td>\n",
       "      <td>NaN</td>\n",
       "      <td>71.0</td>\n",
       "      <td>98.0</td>\n",
       "      <td>176.0</td>\n",
       "      <td>No</td>\n",
       "      <td>Yes</td>\n",
       "    </tr>\n",
       "    <tr>\n",
       "      <th>199995</th>\n",
       "      <td>NaN</td>\n",
       "      <td>24.0</td>\n",
       "      <td>Male</td>\n",
       "      <td>176.503260</td>\n",
       "      <td>95.756997</td>\n",
       "      <td>B</td>\n",
       "      <td>30.737254</td>\n",
       "      <td>99.170685</td>\n",
       "      <td>65.0</td>\n",
       "      <td>121.0</td>\n",
       "      <td>130.0</td>\n",
       "      <td>No</td>\n",
       "      <td>No</td>\n",
       "    </tr>\n",
       "  </tbody>\n",
       "</table>\n",
       "<p>20000 rows × 13 columns</p>\n",
       "</div>"
      ],
      "text/plain": [
       "        Student ID   Age  Gender      Height     Weight Blood Type        BMI  \\\n",
       "3              NaN  30.0    Male  182.112867  63.332207          B  19.096042   \n",
       "15             NaN  21.0    Male  162.819718  96.385698          B        NaN   \n",
       "33             NaN  33.0    Male  177.165911  68.129149          O  21.705642   \n",
       "39             NaN  24.0     NaN  158.110951  53.034904          B  21.214748   \n",
       "55             NaN  20.0  Female  164.746140  94.441970          O  34.796418   \n",
       "...            ...   ...     ...         ...        ...        ...        ...   \n",
       "199917         NaN  30.0    Male  160.993293  48.725905          B  18.799416   \n",
       "199940         NaN  30.0     NaN  158.451908  75.739627         AB  30.166729   \n",
       "199941         NaN   NaN     NaN  167.192837  50.169768        NaN  17.947616   \n",
       "199956         NaN  21.0  Female         NaN  91.240475          B  30.272756   \n",
       "199995         NaN  24.0    Male  176.503260  95.756997          B  30.737254   \n",
       "\n",
       "        Temperature  Heart Rate  Blood Pressure  Cholesterol Diabetes Smoking  \n",
       "3         98.839605        99.0           112.0        141.0       No     Yes  \n",
       "15        98.108563        68.0           126.0        130.0       No      No  \n",
       "33        98.201649         NaN           116.0        143.0      Yes     Yes  \n",
       "39        98.448841        78.0             NaN        157.0       No      No  \n",
       "55        99.289035        84.0            93.0        240.0       No      No  \n",
       "...             ...         ...             ...          ...      ...     ...  \n",
       "199917    98.220218         NaN            91.0        139.0       No      No  \n",
       "199940    98.089516        73.0           108.0        143.0       No      No  \n",
       "199941    97.584901        81.0           107.0        244.0       No     Yes  \n",
       "199956          NaN        71.0            98.0        176.0       No     Yes  \n",
       "199995    99.170685        65.0           121.0        130.0       No      No  \n",
       "\n",
       "[20000 rows x 13 columns]"
      ]
     },
     "execution_count": 6,
     "metadata": {},
     "output_type": "execute_result"
    }
   ],
   "source": [
    "df[df['Student ID'].isna()]"
   ]
  },
  {
   "cell_type": "markdown",
   "id": "451ce781",
   "metadata": {},
   "source": [
    "Em relação aos estudantes com ID faltando, podemos remover eles pois não temos garantia de que são estudantes ativos, na vida real é importante nessa etapa entender porque isso aconteceu"
   ]
  },
  {
   "cell_type": "code",
   "execution_count": 10,
   "id": "d0fda16c",
   "metadata": {},
   "outputs": [],
   "source": [
    "df.dropna(subset='Student ID',inplace=True)"
   ]
  },
  {
   "cell_type": "code",
   "execution_count": 11,
   "id": "0cadc57e",
   "metadata": {},
   "outputs": [
    {
     "data": {
      "text/html": [
       "<div>\n",
       "<style scoped>\n",
       "    .dataframe tbody tr th:only-of-type {\n",
       "        vertical-align: middle;\n",
       "    }\n",
       "\n",
       "    .dataframe tbody tr th {\n",
       "        vertical-align: top;\n",
       "    }\n",
       "\n",
       "    .dataframe thead th {\n",
       "        text-align: right;\n",
       "    }\n",
       "</style>\n",
       "<table border=\"1\" class=\"dataframe\">\n",
       "  <thead>\n",
       "    <tr style=\"text-align: right;\">\n",
       "      <th></th>\n",
       "      <th>Student ID</th>\n",
       "      <th>Age</th>\n",
       "      <th>Gender</th>\n",
       "      <th>Height</th>\n",
       "      <th>Weight</th>\n",
       "      <th>Blood Type</th>\n",
       "      <th>BMI</th>\n",
       "      <th>Temperature</th>\n",
       "      <th>Heart Rate</th>\n",
       "      <th>Blood Pressure</th>\n",
       "      <th>Cholesterol</th>\n",
       "      <th>Diabetes</th>\n",
       "      <th>Smoking</th>\n",
       "    </tr>\n",
       "  </thead>\n",
       "  <tbody>\n",
       "    <tr>\n",
       "      <th>0</th>\n",
       "      <td>1.0</td>\n",
       "      <td>18.0</td>\n",
       "      <td>Female</td>\n",
       "      <td>161.777924</td>\n",
       "      <td>72.354947</td>\n",
       "      <td>O</td>\n",
       "      <td>27.645835</td>\n",
       "      <td>NaN</td>\n",
       "      <td>95.0</td>\n",
       "      <td>109.0</td>\n",
       "      <td>203.0</td>\n",
       "      <td>No</td>\n",
       "      <td>NaN</td>\n",
       "    </tr>\n",
       "    <tr>\n",
       "      <th>1</th>\n",
       "      <td>2.0</td>\n",
       "      <td>NaN</td>\n",
       "      <td>Male</td>\n",
       "      <td>152.069157</td>\n",
       "      <td>47.630941</td>\n",
       "      <td>B</td>\n",
       "      <td>NaN</td>\n",
       "      <td>98.714977</td>\n",
       "      <td>93.0</td>\n",
       "      <td>104.0</td>\n",
       "      <td>163.0</td>\n",
       "      <td>No</td>\n",
       "      <td>No</td>\n",
       "    </tr>\n",
       "    <tr>\n",
       "      <th>2</th>\n",
       "      <td>3.0</td>\n",
       "      <td>32.0</td>\n",
       "      <td>Female</td>\n",
       "      <td>182.537664</td>\n",
       "      <td>55.741083</td>\n",
       "      <td>A</td>\n",
       "      <td>16.729017</td>\n",
       "      <td>98.260293</td>\n",
       "      <td>76.0</td>\n",
       "      <td>130.0</td>\n",
       "      <td>216.0</td>\n",
       "      <td>Yes</td>\n",
       "      <td>No</td>\n",
       "    </tr>\n",
       "    <tr>\n",
       "      <th>4</th>\n",
       "      <td>5.0</td>\n",
       "      <td>23.0</td>\n",
       "      <td>Female</td>\n",
       "      <td>NaN</td>\n",
       "      <td>46.234173</td>\n",
       "      <td>O</td>\n",
       "      <td>NaN</td>\n",
       "      <td>98.480008</td>\n",
       "      <td>95.0</td>\n",
       "      <td>NaN</td>\n",
       "      <td>231.0</td>\n",
       "      <td>No</td>\n",
       "      <td>No</td>\n",
       "    </tr>\n",
       "    <tr>\n",
       "      <th>5</th>\n",
       "      <td>6.0</td>\n",
       "      <td>32.0</td>\n",
       "      <td>NaN</td>\n",
       "      <td>151.491294</td>\n",
       "      <td>68.647805</td>\n",
       "      <td>B</td>\n",
       "      <td>29.912403</td>\n",
       "      <td>99.668373</td>\n",
       "      <td>70.0</td>\n",
       "      <td>128.0</td>\n",
       "      <td>183.0</td>\n",
       "      <td>NaN</td>\n",
       "      <td>Yes</td>\n",
       "    </tr>\n",
       "  </tbody>\n",
       "</table>\n",
       "</div>"
      ],
      "text/plain": [
       "   Student ID   Age  Gender      Height     Weight Blood Type        BMI  \\\n",
       "0         1.0  18.0  Female  161.777924  72.354947          O  27.645835   \n",
       "1         2.0   NaN    Male  152.069157  47.630941          B        NaN   \n",
       "2         3.0  32.0  Female  182.537664  55.741083          A  16.729017   \n",
       "4         5.0  23.0  Female         NaN  46.234173          O        NaN   \n",
       "5         6.0  32.0     NaN  151.491294  68.647805          B  29.912403   \n",
       "\n",
       "   Temperature  Heart Rate  Blood Pressure  Cholesterol Diabetes Smoking  \n",
       "0          NaN        95.0           109.0        203.0       No     NaN  \n",
       "1    98.714977        93.0           104.0        163.0       No      No  \n",
       "2    98.260293        76.0           130.0        216.0      Yes      No  \n",
       "4    98.480008        95.0             NaN        231.0       No      No  \n",
       "5    99.668373        70.0           128.0        183.0      NaN     Yes  "
      ]
     },
     "execution_count": 11,
     "metadata": {},
     "output_type": "execute_result"
    }
   ],
   "source": [
    "df.head()"
   ]
  },
  {
   "cell_type": "markdown",
   "id": "4ae19896",
   "metadata": {},
   "source": [
    "Agora sim vamos seguir para as outras colunas"
   ]
  },
  {
   "cell_type": "code",
   "execution_count": 12,
   "id": "2d90c051",
   "metadata": {},
   "outputs": [
    {
     "name": "stdout",
     "output_type": "stream",
     "text": [
      "<class 'pandas.core.frame.DataFrame'>\n",
      "Int64Index: 180000 entries, 0 to 199999\n",
      "Data columns (total 13 columns):\n",
      " #   Column          Non-Null Count   Dtype  \n",
      "---  ------          --------------   -----  \n",
      " 0   Student ID      180000 non-null  float64\n",
      " 1   Age             161947 non-null  float64\n",
      " 2   Gender          162001 non-null  object \n",
      " 3   Height          161972 non-null  float64\n",
      " 4   Weight          161987 non-null  float64\n",
      " 5   Blood Type      161963 non-null  object \n",
      " 6   BMI             162014 non-null  float64\n",
      " 7   Temperature     162025 non-null  float64\n",
      " 8   Heart Rate      161961 non-null  float64\n",
      " 9   Blood Pressure  162016 non-null  float64\n",
      " 10  Cholesterol     161986 non-null  float64\n",
      " 11  Diabetes        162077 non-null  object \n",
      " 12  Smoking         161988 non-null  object \n",
      "dtypes: float64(9), object(4)\n",
      "memory usage: 19.2+ MB\n"
     ]
    }
   ],
   "source": [
    "df.info()"
   ]
  },
  {
   "cell_type": "code",
   "execution_count": 13,
   "id": "9d3b1ad1",
   "metadata": {},
   "outputs": [],
   "source": [
    "df.Gender.fillna('Não informado',inplace=True)"
   ]
  },
  {
   "cell_type": "code",
   "execution_count": 15,
   "id": "feba7a20",
   "metadata": {},
   "outputs": [],
   "source": [
    "df.Diabetes.fillna('Não informado',inplace=True)\n",
    "df.Smoking.fillna('Não informado',inplace=True)\n",
    "df['Blood Type'].fillna('Não informado',inplace=True)\n"
   ]
  },
  {
   "cell_type": "code",
   "execution_count": 16,
   "id": "6520777c",
   "metadata": {},
   "outputs": [
    {
     "name": "stdout",
     "output_type": "stream",
     "text": [
      "<class 'pandas.core.frame.DataFrame'>\n",
      "Int64Index: 180000 entries, 0 to 199999\n",
      "Data columns (total 13 columns):\n",
      " #   Column          Non-Null Count   Dtype  \n",
      "---  ------          --------------   -----  \n",
      " 0   Student ID      180000 non-null  float64\n",
      " 1   Age             161947 non-null  float64\n",
      " 2   Gender          180000 non-null  object \n",
      " 3   Height          161972 non-null  float64\n",
      " 4   Weight          161987 non-null  float64\n",
      " 5   Blood Type      180000 non-null  object \n",
      " 6   BMI             162014 non-null  float64\n",
      " 7   Temperature     162025 non-null  float64\n",
      " 8   Heart Rate      161961 non-null  float64\n",
      " 9   Blood Pressure  162016 non-null  float64\n",
      " 10  Cholesterol     161986 non-null  float64\n",
      " 11  Diabetes        180000 non-null  object \n",
      " 12  Smoking         180000 non-null  object \n",
      "dtypes: float64(9), object(4)\n",
      "memory usage: 19.2+ MB\n"
     ]
    }
   ],
   "source": [
    "df.info()"
   ]
  },
  {
   "cell_type": "code",
   "execution_count": 29,
   "id": "23a60983",
   "metadata": {},
   "outputs": [],
   "source": [
    "median_value = df['Age'].median()\n",
    "df['Age'].fillna(value=median_value, inplace=True)\n"
   ]
  },
  {
   "cell_type": "code",
   "execution_count": 18,
   "id": "549dc643",
   "metadata": {},
   "outputs": [],
   "source": [
    "median_value = df['Height'].median()\n",
    "df['Height'].fillna(value=median_value, inplace=True)\n"
   ]
  },
  {
   "cell_type": "code",
   "execution_count": 19,
   "id": "21f5275d",
   "metadata": {},
   "outputs": [],
   "source": [
    "mean_value = df['BMI'].mean()\n",
    "df['BMI'].fillna(value=mean_value, inplace=True)\n"
   ]
  },
  {
   "cell_type": "code",
   "execution_count": 20,
   "id": "264bae40",
   "metadata": {},
   "outputs": [],
   "source": [
    "mean_value = df['Temperature'].mean()\n",
    "df['Temperature'].fillna(value=mean_value, inplace=True)\n"
   ]
  },
  {
   "cell_type": "code",
   "execution_count": 21,
   "id": "044e3abd",
   "metadata": {},
   "outputs": [],
   "source": [
    "mean_value = df['Blood Pressure'].mean()\n",
    "df['Blood Pressure'].fillna(value=mean_value, inplace=True)\n"
   ]
  },
  {
   "cell_type": "code",
   "execution_count": 22,
   "id": "36100fd5",
   "metadata": {},
   "outputs": [],
   "source": [
    "mean_value = df['Cholesterol'].mean()\n",
    "df['Cholesterol'].fillna(value=mean_value, inplace=True)\n"
   ]
  },
  {
   "cell_type": "code",
   "execution_count": 24,
   "id": "c68e5336",
   "metadata": {},
   "outputs": [],
   "source": [
    "mean_value = df['Heart Rate'].mean()\n",
    "df['Heart Rate'].fillna(value=mean_value, inplace=True)\n"
   ]
  },
  {
   "cell_type": "code",
   "execution_count": 25,
   "id": "f1f09a8a",
   "metadata": {},
   "outputs": [],
   "source": [
    "mean_value = df['Weight'].mean()\n",
    "df['Weight'].fillna(value=mean_value, inplace=True)\n"
   ]
  },
  {
   "cell_type": "code",
   "execution_count": 30,
   "id": "16644574",
   "metadata": {},
   "outputs": [
    {
     "name": "stdout",
     "output_type": "stream",
     "text": [
      "<class 'pandas.core.frame.DataFrame'>\n",
      "Int64Index: 180000 entries, 0 to 199999\n",
      "Data columns (total 13 columns):\n",
      " #   Column          Non-Null Count   Dtype  \n",
      "---  ------          --------------   -----  \n",
      " 0   Student ID      180000 non-null  float64\n",
      " 1   Age             180000 non-null  float64\n",
      " 2   Gender          180000 non-null  object \n",
      " 3   Height          180000 non-null  float64\n",
      " 4   Weight          180000 non-null  float64\n",
      " 5   Blood Type      180000 non-null  object \n",
      " 6   BMI             180000 non-null  float64\n",
      " 7   Temperature     180000 non-null  float64\n",
      " 8   Heart Rate      180000 non-null  float64\n",
      " 9   Blood Pressure  180000 non-null  float64\n",
      " 10  Cholesterol     180000 non-null  float64\n",
      " 11  Diabetes        180000 non-null  object \n",
      " 12  Smoking         180000 non-null  object \n",
      "dtypes: float64(9), object(4)\n",
      "memory usage: 19.2+ MB\n"
     ]
    }
   ],
   "source": [
    "df.info()"
   ]
  },
  {
   "cell_type": "markdown",
   "id": "d680ff69",
   "metadata": {},
   "source": [
    "Tratamos todas as variáveis"
   ]
  },
  {
   "cell_type": "code",
   "execution_count": 43,
   "id": "6cfde693",
   "metadata": {},
   "outputs": [],
   "source": [
    "df['Student ID'] = df['Student ID'].astype(int)\n",
    "df['Age'] = df['Age'].astype(int)"
   ]
  },
  {
   "cell_type": "code",
   "execution_count": 44,
   "id": "74477ee4",
   "metadata": {},
   "outputs": [
    {
     "data": {
      "text/plain": [
       "(180000, 13)"
      ]
     },
     "execution_count": 44,
     "metadata": {},
     "output_type": "execute_result"
    }
   ],
   "source": [
    "df.shape"
   ]
  },
  {
   "cell_type": "code",
   "execution_count": 57,
   "id": "da13ca5d",
   "metadata": {},
   "outputs": [
    {
     "data": {
      "text/html": [
       "<div>\n",
       "<style scoped>\n",
       "    .dataframe tbody tr th:only-of-type {\n",
       "        vertical-align: middle;\n",
       "    }\n",
       "\n",
       "    .dataframe tbody tr th {\n",
       "        vertical-align: top;\n",
       "    }\n",
       "\n",
       "    .dataframe thead th {\n",
       "        text-align: right;\n",
       "    }\n",
       "</style>\n",
       "<table border=\"1\" class=\"dataframe\">\n",
       "  <thead>\n",
       "    <tr style=\"text-align: right;\">\n",
       "      <th></th>\n",
       "      <th>Student ID</th>\n",
       "      <th>Age</th>\n",
       "      <th>Gender</th>\n",
       "      <th>Height</th>\n",
       "      <th>Weight</th>\n",
       "      <th>Blood Type</th>\n",
       "      <th>BMI</th>\n",
       "      <th>Temperature</th>\n",
       "      <th>Heart Rate</th>\n",
       "      <th>Blood Pressure</th>\n",
       "      <th>Cholesterol</th>\n",
       "      <th>Diabetes</th>\n",
       "      <th>Smoking</th>\n",
       "    </tr>\n",
       "  </thead>\n",
       "  <tbody>\n",
       "    <tr>\n",
       "      <th>1</th>\n",
       "      <td>2</td>\n",
       "      <td>26</td>\n",
       "      <td>Male</td>\n",
       "      <td>152.069157</td>\n",
       "      <td>47.630941</td>\n",
       "      <td>B</td>\n",
       "      <td>23.344400</td>\n",
       "      <td>98.714977</td>\n",
       "      <td>93.000000</td>\n",
       "      <td>104.000000</td>\n",
       "      <td>163.000000</td>\n",
       "      <td>No</td>\n",
       "      <td>No</td>\n",
       "    </tr>\n",
       "    <tr>\n",
       "      <th>100001</th>\n",
       "      <td>2</td>\n",
       "      <td>34</td>\n",
       "      <td>Male</td>\n",
       "      <td>152.069157</td>\n",
       "      <td>47.630941</td>\n",
       "      <td>B</td>\n",
       "      <td>20.597139</td>\n",
       "      <td>98.714977</td>\n",
       "      <td>93.000000</td>\n",
       "      <td>104.000000</td>\n",
       "      <td>163.000000</td>\n",
       "      <td>No</td>\n",
       "      <td>No</td>\n",
       "    </tr>\n",
       "    <tr>\n",
       "      <th>100004</th>\n",
       "      <td>5</td>\n",
       "      <td>23</td>\n",
       "      <td>Female</td>\n",
       "      <td>179.339293</td>\n",
       "      <td>46.234173</td>\n",
       "      <td>O</td>\n",
       "      <td>14.375143</td>\n",
       "      <td>98.480008</td>\n",
       "      <td>95.000000</td>\n",
       "      <td>139.000000</td>\n",
       "      <td>231.000000</td>\n",
       "      <td>No</td>\n",
       "      <td>No</td>\n",
       "    </tr>\n",
       "    <tr>\n",
       "      <th>4</th>\n",
       "      <td>5</td>\n",
       "      <td>23</td>\n",
       "      <td>Female</td>\n",
       "      <td>174.886452</td>\n",
       "      <td>46.234173</td>\n",
       "      <td>O</td>\n",
       "      <td>23.344400</td>\n",
       "      <td>98.480008</td>\n",
       "      <td>95.000000</td>\n",
       "      <td>114.563642</td>\n",
       "      <td>231.000000</td>\n",
       "      <td>No</td>\n",
       "      <td>No</td>\n",
       "    </tr>\n",
       "    <tr>\n",
       "      <th>5</th>\n",
       "      <td>6</td>\n",
       "      <td>32</td>\n",
       "      <td>Não informado</td>\n",
       "      <td>151.491294</td>\n",
       "      <td>68.647805</td>\n",
       "      <td>B</td>\n",
       "      <td>29.912403</td>\n",
       "      <td>99.668373</td>\n",
       "      <td>70.000000</td>\n",
       "      <td>128.000000</td>\n",
       "      <td>183.000000</td>\n",
       "      <td>Não informado</td>\n",
       "      <td>Yes</td>\n",
       "    </tr>\n",
       "    <tr>\n",
       "      <th>...</th>\n",
       "      <td>...</td>\n",
       "      <td>...</td>\n",
       "      <td>...</td>\n",
       "      <td>...</td>\n",
       "      <td>...</td>\n",
       "      <td>...</td>\n",
       "      <td>...</td>\n",
       "      <td>...</td>\n",
       "      <td>...</td>\n",
       "      <td>...</td>\n",
       "      <td>...</td>\n",
       "      <td>...</td>\n",
       "      <td>...</td>\n",
       "    </tr>\n",
       "    <tr>\n",
       "      <th>99997</th>\n",
       "      <td>99998</td>\n",
       "      <td>34</td>\n",
       "      <td>Não informado</td>\n",
       "      <td>173.275523</td>\n",
       "      <td>99.648914</td>\n",
       "      <td>B</td>\n",
       "      <td>33.189303</td>\n",
       "      <td>98.768210</td>\n",
       "      <td>60.000000</td>\n",
       "      <td>90.000000</td>\n",
       "      <td>154.000000</td>\n",
       "      <td>No</td>\n",
       "      <td>No</td>\n",
       "    </tr>\n",
       "    <tr>\n",
       "      <th>199998</th>\n",
       "      <td>99999</td>\n",
       "      <td>30</td>\n",
       "      <td>Female</td>\n",
       "      <td>156.446944</td>\n",
       "      <td>50.142824</td>\n",
       "      <td>A</td>\n",
       "      <td>20.486823</td>\n",
       "      <td>98.994212</td>\n",
       "      <td>61.000000</td>\n",
       "      <td>106.000000</td>\n",
       "      <td>225.000000</td>\n",
       "      <td>No</td>\n",
       "      <td>No</td>\n",
       "    </tr>\n",
       "    <tr>\n",
       "      <th>99998</th>\n",
       "      <td>99999</td>\n",
       "      <td>30</td>\n",
       "      <td>Female</td>\n",
       "      <td>156.446944</td>\n",
       "      <td>50.142824</td>\n",
       "      <td>A</td>\n",
       "      <td>20.486823</td>\n",
       "      <td>98.994212</td>\n",
       "      <td>79.508913</td>\n",
       "      <td>106.000000</td>\n",
       "      <td>184.464806</td>\n",
       "      <td>No</td>\n",
       "      <td>No</td>\n",
       "    </tr>\n",
       "    <tr>\n",
       "      <th>99999</th>\n",
       "      <td>100000</td>\n",
       "      <td>20</td>\n",
       "      <td>Female</td>\n",
       "      <td>153.927409</td>\n",
       "      <td>99.928405</td>\n",
       "      <td>Não informado</td>\n",
       "      <td>42.175189</td>\n",
       "      <td>98.595817</td>\n",
       "      <td>95.000000</td>\n",
       "      <td>133.000000</td>\n",
       "      <td>132.000000</td>\n",
       "      <td>No</td>\n",
       "      <td>No</td>\n",
       "    </tr>\n",
       "    <tr>\n",
       "      <th>199999</th>\n",
       "      <td>100000</td>\n",
       "      <td>20</td>\n",
       "      <td>Female</td>\n",
       "      <td>153.927409</td>\n",
       "      <td>99.928405</td>\n",
       "      <td>O</td>\n",
       "      <td>42.175189</td>\n",
       "      <td>98.595817</td>\n",
       "      <td>95.000000</td>\n",
       "      <td>133.000000</td>\n",
       "      <td>132.000000</td>\n",
       "      <td>Não informado</td>\n",
       "      <td>No</td>\n",
       "    </tr>\n",
       "  </tbody>\n",
       "</table>\n",
       "<p>162048 rows × 13 columns</p>\n",
       "</div>"
      ],
      "text/plain": [
       "        Student ID  Age         Gender      Height     Weight     Blood Type  \\\n",
       "1                2   26           Male  152.069157  47.630941              B   \n",
       "100001           2   34           Male  152.069157  47.630941              B   \n",
       "100004           5   23         Female  179.339293  46.234173              O   \n",
       "4                5   23         Female  174.886452  46.234173              O   \n",
       "5                6   32  Não informado  151.491294  68.647805              B   \n",
       "...            ...  ...            ...         ...        ...            ...   \n",
       "99997        99998   34  Não informado  173.275523  99.648914              B   \n",
       "199998       99999   30         Female  156.446944  50.142824              A   \n",
       "99998        99999   30         Female  156.446944  50.142824              A   \n",
       "99999       100000   20         Female  153.927409  99.928405  Não informado   \n",
       "199999      100000   20         Female  153.927409  99.928405              O   \n",
       "\n",
       "              BMI  Temperature  Heart Rate  Blood Pressure  Cholesterol  \\\n",
       "1       23.344400    98.714977   93.000000      104.000000   163.000000   \n",
       "100001  20.597139    98.714977   93.000000      104.000000   163.000000   \n",
       "100004  14.375143    98.480008   95.000000      139.000000   231.000000   \n",
       "4       23.344400    98.480008   95.000000      114.563642   231.000000   \n",
       "5       29.912403    99.668373   70.000000      128.000000   183.000000   \n",
       "...           ...          ...         ...             ...          ...   \n",
       "99997   33.189303    98.768210   60.000000       90.000000   154.000000   \n",
       "199998  20.486823    98.994212   61.000000      106.000000   225.000000   \n",
       "99998   20.486823    98.994212   79.508913      106.000000   184.464806   \n",
       "99999   42.175189    98.595817   95.000000      133.000000   132.000000   \n",
       "199999  42.175189    98.595817   95.000000      133.000000   132.000000   \n",
       "\n",
       "             Diabetes Smoking  \n",
       "1                  No      No  \n",
       "100001             No      No  \n",
       "100004             No      No  \n",
       "4                  No      No  \n",
       "5       Não informado     Yes  \n",
       "...               ...     ...  \n",
       "99997              No      No  \n",
       "199998             No      No  \n",
       "99998              No      No  \n",
       "99999              No      No  \n",
       "199999  Não informado      No  \n",
       "\n",
       "[162048 rows x 13 columns]"
      ]
     },
     "execution_count": 57,
     "metadata": {},
     "output_type": "execute_result"
    }
   ],
   "source": [
    "df[df.duplicated(subset=['Student ID'],keep=False)].sort_values(by='Student ID')"
   ]
  },
  {
   "cell_type": "markdown",
   "id": "9561bcc1",
   "metadata": {},
   "source": [
    "Temos estudantes com IDs iguais mas informações diferentes. O ideal seria apresentar esses caso para a área de negócios. E para não duplicar informações e tirarmos insights errados, iremos deletar os duplicados e manter somente o primeiro registro"
   ]
  },
  {
   "cell_type": "code",
   "execution_count": 61,
   "id": "f1abf66b",
   "metadata": {},
   "outputs": [
    {
     "data": {
      "text/html": [
       "<div>\n",
       "<style scoped>\n",
       "    .dataframe tbody tr th:only-of-type {\n",
       "        vertical-align: middle;\n",
       "    }\n",
       "\n",
       "    .dataframe tbody tr th {\n",
       "        vertical-align: top;\n",
       "    }\n",
       "\n",
       "    .dataframe thead th {\n",
       "        text-align: right;\n",
       "    }\n",
       "</style>\n",
       "<table border=\"1\" class=\"dataframe\">\n",
       "  <thead>\n",
       "    <tr style=\"text-align: right;\">\n",
       "      <th></th>\n",
       "      <th>Student ID</th>\n",
       "      <th>Age</th>\n",
       "      <th>Gender</th>\n",
       "      <th>Height</th>\n",
       "      <th>Weight</th>\n",
       "      <th>Blood Type</th>\n",
       "      <th>BMI</th>\n",
       "      <th>Temperature</th>\n",
       "      <th>Heart Rate</th>\n",
       "      <th>Blood Pressure</th>\n",
       "      <th>Cholesterol</th>\n",
       "      <th>Diabetes</th>\n",
       "      <th>Smoking</th>\n",
       "    </tr>\n",
       "  </thead>\n",
       "  <tbody>\n",
       "    <tr>\n",
       "      <th>0</th>\n",
       "      <td>1</td>\n",
       "      <td>18</td>\n",
       "      <td>Female</td>\n",
       "      <td>161.777924</td>\n",
       "      <td>72.354947</td>\n",
       "      <td>O</td>\n",
       "      <td>27.645835</td>\n",
       "      <td>98.600843</td>\n",
       "      <td>95.0</td>\n",
       "      <td>109.000000</td>\n",
       "      <td>203.000000</td>\n",
       "      <td>No</td>\n",
       "      <td>Não informado</td>\n",
       "    </tr>\n",
       "    <tr>\n",
       "      <th>1</th>\n",
       "      <td>2</td>\n",
       "      <td>26</td>\n",
       "      <td>Male</td>\n",
       "      <td>152.069157</td>\n",
       "      <td>47.630941</td>\n",
       "      <td>B</td>\n",
       "      <td>23.344400</td>\n",
       "      <td>98.714977</td>\n",
       "      <td>93.0</td>\n",
       "      <td>104.000000</td>\n",
       "      <td>163.000000</td>\n",
       "      <td>No</td>\n",
       "      <td>No</td>\n",
       "    </tr>\n",
       "    <tr>\n",
       "      <th>2</th>\n",
       "      <td>3</td>\n",
       "      <td>32</td>\n",
       "      <td>Female</td>\n",
       "      <td>182.537664</td>\n",
       "      <td>55.741083</td>\n",
       "      <td>A</td>\n",
       "      <td>16.729017</td>\n",
       "      <td>98.260293</td>\n",
       "      <td>76.0</td>\n",
       "      <td>130.000000</td>\n",
       "      <td>216.000000</td>\n",
       "      <td>Yes</td>\n",
       "      <td>No</td>\n",
       "    </tr>\n",
       "    <tr>\n",
       "      <th>4</th>\n",
       "      <td>5</td>\n",
       "      <td>23</td>\n",
       "      <td>Female</td>\n",
       "      <td>174.886452</td>\n",
       "      <td>46.234173</td>\n",
       "      <td>O</td>\n",
       "      <td>23.344400</td>\n",
       "      <td>98.480008</td>\n",
       "      <td>95.0</td>\n",
       "      <td>114.563642</td>\n",
       "      <td>231.000000</td>\n",
       "      <td>No</td>\n",
       "      <td>No</td>\n",
       "    </tr>\n",
       "    <tr>\n",
       "      <th>5</th>\n",
       "      <td>6</td>\n",
       "      <td>32</td>\n",
       "      <td>Não informado</td>\n",
       "      <td>151.491294</td>\n",
       "      <td>68.647805</td>\n",
       "      <td>B</td>\n",
       "      <td>29.912403</td>\n",
       "      <td>99.668373</td>\n",
       "      <td>70.0</td>\n",
       "      <td>128.000000</td>\n",
       "      <td>183.000000</td>\n",
       "      <td>Não informado</td>\n",
       "      <td>Yes</td>\n",
       "    </tr>\n",
       "    <tr>\n",
       "      <th>...</th>\n",
       "      <td>...</td>\n",
       "      <td>...</td>\n",
       "      <td>...</td>\n",
       "      <td>...</td>\n",
       "      <td>...</td>\n",
       "      <td>...</td>\n",
       "      <td>...</td>\n",
       "      <td>...</td>\n",
       "      <td>...</td>\n",
       "      <td>...</td>\n",
       "      <td>...</td>\n",
       "      <td>...</td>\n",
       "      <td>...</td>\n",
       "    </tr>\n",
       "    <tr>\n",
       "      <th>199946</th>\n",
       "      <td>99947</td>\n",
       "      <td>26</td>\n",
       "      <td>Male</td>\n",
       "      <td>174.886452</td>\n",
       "      <td>97.379731</td>\n",
       "      <td>Não informado</td>\n",
       "      <td>40.014870</td>\n",
       "      <td>98.808795</td>\n",
       "      <td>82.0</td>\n",
       "      <td>100.000000</td>\n",
       "      <td>235.000000</td>\n",
       "      <td>No</td>\n",
       "      <td>No</td>\n",
       "    </tr>\n",
       "    <tr>\n",
       "      <th>199950</th>\n",
       "      <td>99951</td>\n",
       "      <td>21</td>\n",
       "      <td>Male</td>\n",
       "      <td>164.162060</td>\n",
       "      <td>55.931108</td>\n",
       "      <td>B</td>\n",
       "      <td>20.754288</td>\n",
       "      <td>98.121215</td>\n",
       "      <td>94.0</td>\n",
       "      <td>124.000000</td>\n",
       "      <td>123.000000</td>\n",
       "      <td>No</td>\n",
       "      <td>No</td>\n",
       "    </tr>\n",
       "    <tr>\n",
       "      <th>199960</th>\n",
       "      <td>99961</td>\n",
       "      <td>26</td>\n",
       "      <td>Female</td>\n",
       "      <td>188.117099</td>\n",
       "      <td>48.203411</td>\n",
       "      <td>AB</td>\n",
       "      <td>23.344400</td>\n",
       "      <td>98.528649</td>\n",
       "      <td>93.0</td>\n",
       "      <td>129.000000</td>\n",
       "      <td>190.000000</td>\n",
       "      <td>Yes</td>\n",
       "      <td>Não informado</td>\n",
       "    </tr>\n",
       "    <tr>\n",
       "      <th>199993</th>\n",
       "      <td>99994</td>\n",
       "      <td>22</td>\n",
       "      <td>Male</td>\n",
       "      <td>174.886452</td>\n",
       "      <td>46.155224</td>\n",
       "      <td>A</td>\n",
       "      <td>23.344400</td>\n",
       "      <td>98.331019</td>\n",
       "      <td>93.0</td>\n",
       "      <td>100.000000</td>\n",
       "      <td>184.464806</td>\n",
       "      <td>Yes</td>\n",
       "      <td>No</td>\n",
       "    </tr>\n",
       "    <tr>\n",
       "      <th>199996</th>\n",
       "      <td>99997</td>\n",
       "      <td>29</td>\n",
       "      <td>Female</td>\n",
       "      <td>163.917675</td>\n",
       "      <td>45.225194</td>\n",
       "      <td>Não informado</td>\n",
       "      <td>16.831734</td>\n",
       "      <td>97.865785</td>\n",
       "      <td>62.0</td>\n",
       "      <td>125.000000</td>\n",
       "      <td>198.000000</td>\n",
       "      <td>No</td>\n",
       "      <td>Yes</td>\n",
       "    </tr>\n",
       "  </tbody>\n",
       "</table>\n",
       "<p>98976 rows × 13 columns</p>\n",
       "</div>"
      ],
      "text/plain": [
       "        Student ID  Age         Gender      Height     Weight     Blood Type  \\\n",
       "0                1   18         Female  161.777924  72.354947              O   \n",
       "1                2   26           Male  152.069157  47.630941              B   \n",
       "2                3   32         Female  182.537664  55.741083              A   \n",
       "4                5   23         Female  174.886452  46.234173              O   \n",
       "5                6   32  Não informado  151.491294  68.647805              B   \n",
       "...            ...  ...            ...         ...        ...            ...   \n",
       "199946       99947   26           Male  174.886452  97.379731  Não informado   \n",
       "199950       99951   21           Male  164.162060  55.931108              B   \n",
       "199960       99961   26         Female  188.117099  48.203411             AB   \n",
       "199993       99994   22           Male  174.886452  46.155224              A   \n",
       "199996       99997   29         Female  163.917675  45.225194  Não informado   \n",
       "\n",
       "              BMI  Temperature  Heart Rate  Blood Pressure  Cholesterol  \\\n",
       "0       27.645835    98.600843        95.0      109.000000   203.000000   \n",
       "1       23.344400    98.714977        93.0      104.000000   163.000000   \n",
       "2       16.729017    98.260293        76.0      130.000000   216.000000   \n",
       "4       23.344400    98.480008        95.0      114.563642   231.000000   \n",
       "5       29.912403    99.668373        70.0      128.000000   183.000000   \n",
       "...           ...          ...         ...             ...          ...   \n",
       "199946  40.014870    98.808795        82.0      100.000000   235.000000   \n",
       "199950  20.754288    98.121215        94.0      124.000000   123.000000   \n",
       "199960  23.344400    98.528649        93.0      129.000000   190.000000   \n",
       "199993  23.344400    98.331019        93.0      100.000000   184.464806   \n",
       "199996  16.831734    97.865785        62.0      125.000000   198.000000   \n",
       "\n",
       "             Diabetes        Smoking  \n",
       "0                  No  Não informado  \n",
       "1                  No             No  \n",
       "2                 Yes             No  \n",
       "4                  No             No  \n",
       "5       Não informado            Yes  \n",
       "...               ...            ...  \n",
       "199946             No             No  \n",
       "199950             No             No  \n",
       "199960            Yes  Não informado  \n",
       "199993            Yes             No  \n",
       "199996             No            Yes  \n",
       "\n",
       "[98976 rows x 13 columns]"
      ]
     },
     "execution_count": 61,
     "metadata": {},
     "output_type": "execute_result"
    }
   ],
   "source": [
    "df_sem_duplicados = df.drop_duplicates(subset=['Student ID'])\n",
    "df_sem_duplicados"
   ]
  },
  {
   "cell_type": "markdown",
   "id": "69288988",
   "metadata": {},
   "source": [
    "## 2. Análise descritiva e diagnóstica <a id=\"2\"></a>"
   ]
  },
  {
   "cell_type": "code",
   "execution_count": 62,
   "id": "36a8fdc3",
   "metadata": {},
   "outputs": [
    {
     "name": "stderr",
     "output_type": "stream",
     "text": [
      "/Users/lauradamaceno/opt/anaconda3/lib/python3.9/site-packages/seaborn/_decorators.py:36: FutureWarning: Pass the following variable as a keyword arg: x. From version 0.12, the only valid positional argument will be `data`, and passing other arguments without an explicit keyword will result in an error or misinterpretation.\n",
      "  warnings.warn(\n"
     ]
    },
    {
     "data": {
      "text/plain": [
       "<AxesSubplot:xlabel='Gender', ylabel='count'>"
      ]
     },
     "execution_count": 62,
     "metadata": {},
     "output_type": "execute_result"
    },
    {
     "data": {
      "image/png": "[encoded data removed]",
      "text/plain": [
       "<Figure size 432x288 with 1 Axes>"
      ]
     },
     "metadata": {
      "needs_background": "light"
     },
     "output_type": "display_data"
    }
   ],
   "source": [
    "sns.countplot(df_sem_duplicados.Gender)"
   ]
  },
  {
   "cell_type": "code",
   "execution_count": 63,
   "id": "46b75494",
   "metadata": {},
   "outputs": [
    {
     "data": {
      "text/plain": [
       "Male             44600\n",
       "Female           44519\n",
       "Não informado     9857\n",
       "Name: Gender, dtype: int64"
      ]
     },
     "execution_count": 63,
     "metadata": {},
     "output_type": "execute_result"
    }
   ],
   "source": [
    "df_sem_duplicados.Gender.value_counts()"
   ]
  },
  {
   "cell_type": "code",
   "execution_count": 64,
   "id": "b23a34b8",
   "metadata": {},
   "outputs": [],
   "source": [
    "total_de_mulheres = df_sem_duplicados.Gender.value_counts()[0]\n",
    "total_de_homens = df_sem_duplicados.Gender.value_counts()[1]\n",
    "total = df_sem_duplicados.shape[0]"
   ]
  },
  {
   "cell_type": "code",
   "execution_count": 65,
   "id": "aa259d7e",
   "metadata": {},
   "outputs": [],
   "source": [
    "\n",
    "percentual_mulheres = (total_de_mulheres*100)/total\n",
    "percentual_homens = (total_de_homens*100)/total"
   ]
  },
  {
   "cell_type": "code",
   "execution_count": 66,
   "id": "aa01a888",
   "metadata": {},
   "outputs": [
    {
     "name": "stdout",
     "output_type": "stream",
     "text": [
      "Porcentagem de mulheres é: 45.061429033301\n",
      "Porcentagem de homens é: 44.9795910119625\n"
     ]
    }
   ],
   "source": [
    "print(f\"Porcentagem de mulheres é: {percentual_mulheres}\")\n",
    "print(f\"Porcentagem de homens é: {percentual_homens}\")"
   ]
  },
  {
   "cell_type": "code",
   "execution_count": 75,
   "id": "8b3ac459",
   "metadata": {},
   "outputs": [
    {
     "name": "stderr",
     "output_type": "stream",
     "text": [
      "/Users/lauradamaceno/opt/anaconda3/lib/python3.9/site-packages/seaborn/_decorators.py:36: FutureWarning: Pass the following variable as a keyword arg: x. From version 0.12, the only valid positional argument will be `data`, and passing other arguments without an explicit keyword will result in an error or misinterpretation.\n",
      "  warnings.warn(\n"
     ]
    },
    {
     "data": {
      "text/plain": [
       "<AxesSubplot:xlabel='Diabetes', ylabel='count'>"
      ]
     },
     "execution_count": 75,
     "metadata": {},
     "output_type": "execute_result"
    },
    {
     "data": {
      "image/png": "[encoded data removed]",
      "text/plain": [
       "<Figure size 432x288 with 1 Axes>"
      ]
     },
     "metadata": {
      "needs_background": "light"
     },
     "output_type": "display_data"
    }
   ],
   "source": [
    "sns.countplot(df_sem_duplicados.Diabetes)"
   ]
  },
  {
   "cell_type": "code",
   "execution_count": 76,
   "id": "c8ae1ca7",
   "metadata": {},
   "outputs": [
    {
     "data": {
      "text/plain": [
       "No               80176\n",
       "Não informado     9910\n",
       "Yes               8890\n",
       "Name: Diabetes, dtype: int64"
      ]
     },
     "execution_count": 76,
     "metadata": {},
     "output_type": "execute_result"
    }
   ],
   "source": [
    "df_sem_duplicados.Diabetes.value_counts()"
   ]
  },
  {
   "cell_type": "code",
   "execution_count": 78,
   "id": "9d2c3e96",
   "metadata": {},
   "outputs": [],
   "source": [
    "sem_diabetes = df_sem_duplicados.Diabetes.value_counts()[0]\n",
    "diabetico = df_sem_duplicados.Diabetes.value_counts()[2]\n"
   ]
  },
  {
   "cell_type": "code",
   "execution_count": 79,
   "id": "8ac9cf78",
   "metadata": {},
   "outputs": [],
   "source": [
    "\n",
    "percentual_nao_diabetico = (sem_diabetes*100)/total\n",
    "percentual_diabetico = (diabetico*100)/total"
   ]
  },
  {
   "cell_type": "code",
   "execution_count": 80,
   "id": "4490bce5",
   "metadata": {},
   "outputs": [
    {
     "name": "stdout",
     "output_type": "stream",
     "text": [
      "Porcentagem de não diabeticos: 81.00549628192694\n",
      "Porcentagem de diabeticos: 8.98197542838668\n"
     ]
    }
   ],
   "source": [
    "print(f\"Porcentagem de não diabeticos: {percentual_nao_diabetico}\")\n",
    "print(f\"Porcentagem de diabeticos: {percentual_diabetico}\")"
   ]
  },
  {
   "cell_type": "code",
   "execution_count": 141,
   "id": "d739f942",
   "metadata": {},
   "outputs": [],
   "source": [
    "diabeticos_genero = df_sem_duplicados[df_sem_duplicados.Diabetes == 'Yes'].Gender.value_counts()\n",
    "homens_diabeticos = diabeticos_genero[0]\n",
    "mulheres_diabeticos = diabeticos_genero[1]"
   ]
  },
  {
   "cell_type": "code",
   "execution_count": 142,
   "id": "bb0f31cd",
   "metadata": {},
   "outputs": [],
   "source": [
    "total_diabeticos = df_sem_duplicados[df_sem_duplicados.Diabetes == 'Yes'].shape[0]"
   ]
  },
  {
   "cell_type": "code",
   "execution_count": 143,
   "id": "b00a4a77",
   "metadata": {},
   "outputs": [],
   "source": [
    "percentual_h_diabeticos = (homens_diabeticos*100)/total_diabeticos\n",
    "percentual_f_diabeticos = (mulheres_diabeticos*100)/total_diabeticos"
   ]
  },
  {
   "cell_type": "code",
   "execution_count": 145,
   "id": "3569b49d",
   "metadata": {},
   "outputs": [
    {
     "name": "stdout",
     "output_type": "stream",
     "text": [
      "Porcentagem de homens diabeticos: 45.691788526434195\n",
      "Porcentagem de mulheres diabeticos: 44.38695163104612\n"
     ]
    }
   ],
   "source": [
    "print(f\"Porcentagem de homens diabeticos: {percentual_h_diabeticos}\")\n",
    "print(f\"Porcentagem de mulheres diabeticos: {percentual_f_diabeticos}\")"
   ]
  },
  {
   "cell_type": "code",
   "execution_count": 122,
   "id": "971c60f3",
   "metadata": {},
   "outputs": [
    {
     "name": "stderr",
     "output_type": "stream",
     "text": [
      "/Users/lauradamaceno/opt/anaconda3/lib/python3.9/site-packages/seaborn/_decorators.py:36: FutureWarning: Pass the following variable as a keyword arg: x. From version 0.12, the only valid positional argument will be `data`, and passing other arguments without an explicit keyword will result in an error or misinterpretation.\n",
      "  warnings.warn(\n"
     ]
    },
    {
     "data": {
      "text/plain": [
       "<AxesSubplot:xlabel='Smoking', ylabel='count'>"
      ]
     },
     "execution_count": 122,
     "metadata": {},
     "output_type": "execute_result"
    },
    {
     "data": {
      "image/png": "[encoded data removed]",
      "text/plain": [
       "<Figure size 432x288 with 1 Axes>"
      ]
     },
     "metadata": {
      "needs_background": "light"
     },
     "output_type": "display_data"
    }
   ],
   "source": [
    "sns.countplot(df_sem_duplicados.Smoking)"
   ]
  },
  {
   "cell_type": "code",
   "execution_count": 123,
   "id": "a01da84c",
   "metadata": {},
   "outputs": [
    {
     "data": {
      "text/plain": [
       "No               71127\n",
       "Yes              17833\n",
       "Não informado    10016\n",
       "Name: Smoking, dtype: int64"
      ]
     },
     "execution_count": 123,
     "metadata": {},
     "output_type": "execute_result"
    }
   ],
   "source": [
    "df_sem_duplicados.Smoking.value_counts()"
   ]
  },
  {
   "cell_type": "code",
   "execution_count": 124,
   "id": "ba6ea102",
   "metadata": {},
   "outputs": [],
   "source": [
    "nao_fumante = df_sem_duplicados.Smoking.value_counts()[0]\n",
    "fumante = df_sem_duplicados.Smoking.value_counts()[1]\n"
   ]
  },
  {
   "cell_type": "code",
   "execution_count": 125,
   "id": "443b5495",
   "metadata": {},
   "outputs": [],
   "source": [
    "\n",
    "percentual_nao_fumante = (nao_fumante*100)/total\n",
    "percentual_fumante = (fumante*100)/total"
   ]
  },
  {
   "cell_type": "code",
   "execution_count": 126,
   "id": "f494e183",
   "metadata": {},
   "outputs": [
    {
     "name": "stdout",
     "output_type": "stream",
     "text": [
      "Porcentagem de não fumantes: 71.86287584869059\n",
      "Porcentagem de fumantes: 18.017499191723246\n"
     ]
    }
   ],
   "source": [
    "print(f\"Porcentagem de não fumantes: {percentual_nao_fumante}\")\n",
    "print(f\"Porcentagem de fumantes: {percentual_fumante}\")"
   ]
  },
  {
   "cell_type": "code",
   "execution_count": 131,
   "id": "2fcef026",
   "metadata": {},
   "outputs": [],
   "source": [
    "fumantes_genero = df_sem_duplicados[df_sem_duplicados.Smoking == 'Yes'].Gender.value_counts()\n",
    "homens_fumantes = fumantes_genero[0]\n",
    "mulheres_fumantes = fumantes_genero[1]"
   ]
  },
  {
   "cell_type": "code",
   "execution_count": 132,
   "id": "d7a00bdf",
   "metadata": {},
   "outputs": [
    {
     "data": {
      "text/plain": [
       "Male             8101\n",
       "Female           7964\n",
       "Não informado    1768\n",
       "Name: Gender, dtype: int64"
      ]
     },
     "execution_count": 132,
     "metadata": {},
     "output_type": "execute_result"
    }
   ],
   "source": [
    "fumantes_genero"
   ]
  },
  {
   "cell_type": "code",
   "execution_count": 133,
   "id": "fbedcd98",
   "metadata": {},
   "outputs": [],
   "source": [
    "total_fumantes = df_sem_duplicados[df_sem_duplicados.Smoking == 'Yes'].shape[0]"
   ]
  },
  {
   "cell_type": "code",
   "execution_count": 134,
   "id": "035e2c06",
   "metadata": {},
   "outputs": [],
   "source": [
    "percentual_h_fumante = (homens_fumantes*100)/total_fumantes\n",
    "percentual_f_fumante = (mulheres_fumantes*100)/total_fumantes"
   ]
  },
  {
   "cell_type": "code",
   "execution_count": 135,
   "id": "fc8348f2",
   "metadata": {},
   "outputs": [
    {
     "name": "stdout",
     "output_type": "stream",
     "text": [
      "Porcentagem de homens fumantes: 45.42701732742668\n",
      "Porcentagem de mulheres fumantes: 44.658778668760164\n"
     ]
    }
   ],
   "source": [
    "print(f\"Porcentagem de homens fumantes: {percentual_h_fumante}\")\n",
    "print(f\"Porcentagem de mulheres fumantes: {percentual_f_fumante}\")"
   ]
  },
  {
   "cell_type": "code",
   "execution_count": 87,
   "id": "9f7eec1c",
   "metadata": {},
   "outputs": [
    {
     "name": "stderr",
     "output_type": "stream",
     "text": [
      "/Users/lauradamaceno/opt/anaconda3/lib/python3.9/site-packages/seaborn/_decorators.py:36: FutureWarning: Pass the following variable as a keyword arg: x. From version 0.12, the only valid positional argument will be `data`, and passing other arguments without an explicit keyword will result in an error or misinterpretation.\n",
      "  warnings.warn(\n"
     ]
    },
    {
     "data": {
      "text/plain": [
       "<AxesSubplot:xlabel='Blood Type', ylabel='count'>"
      ]
     },
     "execution_count": 87,
     "metadata": {},
     "output_type": "execute_result"
    },
    {
     "data": {
      "image/png": "[encoded data removed]",
      "text/plain": [
       "<Figure size 432x288 with 1 Axes>"
      ]
     },
     "metadata": {
      "needs_background": "light"
     },
     "output_type": "display_data"
    }
   ],
   "source": [
    "sns.countplot(df_sem_duplicados['Blood Type'])"
   ]
  },
  {
   "cell_type": "code",
   "execution_count": 88,
   "id": "0ccfd0e1",
   "metadata": {},
   "outputs": [
    {
     "data": {
      "text/plain": [
       "O                22577\n",
       "B                22559\n",
       "A                21985\n",
       "AB               21960\n",
       "Não informado     9895\n",
       "Name: Blood Type, dtype: int64"
      ]
     },
     "execution_count": 88,
     "metadata": {},
     "output_type": "execute_result"
    }
   ],
   "source": [
    "df_sem_duplicados['Blood Type'].value_counts()"
   ]
  },
  {
   "cell_type": "markdown",
   "id": "9ad21418",
   "metadata": {},
   "source": [
    "A maioria dos estudantes tem tipo sanguineo O ou B"
   ]
  },
  {
   "cell_type": "code",
   "execution_count": 67,
   "id": "4706c1db",
   "metadata": {},
   "outputs": [
    {
     "data": {
      "text/html": [
       "<div>\n",
       "<style scoped>\n",
       "    .dataframe tbody tr th:only-of-type {\n",
       "        vertical-align: middle;\n",
       "    }\n",
       "\n",
       "    .dataframe tbody tr th {\n",
       "        vertical-align: top;\n",
       "    }\n",
       "\n",
       "    .dataframe thead th {\n",
       "        text-align: right;\n",
       "    }\n",
       "</style>\n",
       "<table border=\"1\" class=\"dataframe\">\n",
       "  <thead>\n",
       "    <tr style=\"text-align: right;\">\n",
       "      <th></th>\n",
       "      <th>Student ID</th>\n",
       "      <th>Age</th>\n",
       "      <th>Height</th>\n",
       "      <th>Weight</th>\n",
       "      <th>BMI</th>\n",
       "      <th>Temperature</th>\n",
       "      <th>Heart Rate</th>\n",
       "      <th>Blood Pressure</th>\n",
       "      <th>Cholesterol</th>\n",
       "    </tr>\n",
       "  </thead>\n",
       "  <tbody>\n",
       "    <tr>\n",
       "      <th>count</th>\n",
       "      <td>98976.000000</td>\n",
       "      <td>98976.000000</td>\n",
       "      <td>98976.000000</td>\n",
       "      <td>98976.000000</td>\n",
       "      <td>98976.000000</td>\n",
       "      <td>98976.000000</td>\n",
       "      <td>98976.000000</td>\n",
       "      <td>98976.000000</td>\n",
       "      <td>98976.000000</td>\n",
       "    </tr>\n",
       "    <tr>\n",
       "      <th>mean</th>\n",
       "      <td>49996.307610</td>\n",
       "      <td>26.013427</td>\n",
       "      <td>174.934591</td>\n",
       "      <td>69.963773</td>\n",
       "      <td>23.335659</td>\n",
       "      <td>98.600653</td>\n",
       "      <td>79.505083</td>\n",
       "      <td>114.549308</td>\n",
       "      <td>184.493832</td>\n",
       "    </tr>\n",
       "    <tr>\n",
       "      <th>std</th>\n",
       "      <td>28872.767544</td>\n",
       "      <td>4.639894</td>\n",
       "      <td>13.699669</td>\n",
       "      <td>16.447560</td>\n",
       "      <td>6.674264</td>\n",
       "      <td>0.474364</td>\n",
       "      <td>10.953030</td>\n",
       "      <td>13.673745</td>\n",
       "      <td>35.638178</td>\n",
       "    </tr>\n",
       "    <tr>\n",
       "      <th>min</th>\n",
       "      <td>1.000000</td>\n",
       "      <td>18.000000</td>\n",
       "      <td>150.000329</td>\n",
       "      <td>40.000578</td>\n",
       "      <td>10.074837</td>\n",
       "      <td>96.397835</td>\n",
       "      <td>60.000000</td>\n",
       "      <td>90.000000</td>\n",
       "      <td>120.000000</td>\n",
       "    </tr>\n",
       "    <tr>\n",
       "      <th>25%</th>\n",
       "      <td>24995.750000</td>\n",
       "      <td>22.000000</td>\n",
       "      <td>163.854738</td>\n",
       "      <td>56.582091</td>\n",
       "      <td>18.381241</td>\n",
       "      <td>98.306932</td>\n",
       "      <td>71.000000</td>\n",
       "      <td>104.000000</td>\n",
       "      <td>156.000000</td>\n",
       "    </tr>\n",
       "    <tr>\n",
       "      <th>50%</th>\n",
       "      <td>49985.500000</td>\n",
       "      <td>26.000000</td>\n",
       "      <td>174.886452</td>\n",
       "      <td>69.961270</td>\n",
       "      <td>23.344400</td>\n",
       "      <td>98.600843</td>\n",
       "      <td>79.508913</td>\n",
       "      <td>114.563642</td>\n",
       "      <td>184.464806</td>\n",
       "    </tr>\n",
       "    <tr>\n",
       "      <th>75%</th>\n",
       "      <td>75000.250000</td>\n",
       "      <td>30.000000</td>\n",
       "      <td>186.064463</td>\n",
       "      <td>83.334917</td>\n",
       "      <td>27.248571</td>\n",
       "      <td>98.896034</td>\n",
       "      <td>88.000000</td>\n",
       "      <td>126.000000</td>\n",
       "      <td>213.000000</td>\n",
       "    </tr>\n",
       "    <tr>\n",
       "      <th>max</th>\n",
       "      <td>100000.000000</td>\n",
       "      <td>34.000000</td>\n",
       "      <td>199.998639</td>\n",
       "      <td>99.999907</td>\n",
       "      <td>44.314074</td>\n",
       "      <td>100.824857</td>\n",
       "      <td>99.000000</td>\n",
       "      <td>139.000000</td>\n",
       "      <td>249.000000</td>\n",
       "    </tr>\n",
       "  </tbody>\n",
       "</table>\n",
       "</div>"
      ],
      "text/plain": [
       "          Student ID           Age        Height        Weight           BMI  \\\n",
       "count   98976.000000  98976.000000  98976.000000  98976.000000  98976.000000   \n",
       "mean    49996.307610     26.013427    174.934591     69.963773     23.335659   \n",
       "std     28872.767544      4.639894     13.699669     16.447560      6.674264   \n",
       "min         1.000000     18.000000    150.000329     40.000578     10.074837   \n",
       "25%     24995.750000     22.000000    163.854738     56.582091     18.381241   \n",
       "50%     49985.500000     26.000000    174.886452     69.961270     23.344400   \n",
       "75%     75000.250000     30.000000    186.064463     83.334917     27.248571   \n",
       "max    100000.000000     34.000000    199.998639     99.999907     44.314074   \n",
       "\n",
       "        Temperature    Heart Rate  Blood Pressure   Cholesterol  \n",
       "count  98976.000000  98976.000000    98976.000000  98976.000000  \n",
       "mean      98.600653     79.505083      114.549308    184.493832  \n",
       "std        0.474364     10.953030       13.673745     35.638178  \n",
       "min       96.397835     60.000000       90.000000    120.000000  \n",
       "25%       98.306932     71.000000      104.000000    156.000000  \n",
       "50%       98.600843     79.508913      114.563642    184.464806  \n",
       "75%       98.896034     88.000000      126.000000    213.000000  \n",
       "max      100.824857     99.000000      139.000000    249.000000  "
      ]
     },
     "execution_count": 67,
     "metadata": {},
     "output_type": "execute_result"
    }
   ],
   "source": [
    "df_sem_duplicados.describe()"
   ]
  },
  {
   "cell_type": "markdown",
   "id": "f424ab81",
   "metadata": {},
   "source": [
    "- A média e mediana da idade dos estudantes é 26 anos, e 75% dos estudantes tem idade abaixo de 30 anos.\n",
    "\n",
    "- A média e mediana da altura dos estudantes é aproximadamente 175. 75% dos estudantes tem altura abaixo de 186\n",
    "\n",
    "- O peso médio e a mediana dos estudantes é 70"
   ]
  },
  {
   "cell_type": "markdown",
   "id": "6d1966f7",
   "metadata": {},
   "source": [
    "Para as variáveis numéricas contínuas vou visualizar o histograma e calcular o valor de Skeweness para saber se as variáveis são assimétricas. Valores zero da skewness indicam que os dados têm distribuição simétrica em relação ao centro. Valores positivos indicam que a distribuição tem assimetria positiva, ou seja, a cauda direita é mais longa do que a cauda esquerda. Valores negativos indicam que a distribuição tem assimetria negativa, ou seja, a cauda esquerda é mais longa do que a cauda direita."
   ]
  },
  {
   "cell_type": "code",
   "execution_count": 113,
   "id": "908d820b",
   "metadata": {},
   "outputs": [
    {
     "data": {
      "text/plain": [
       "<AxesSubplot:xlabel='Age', ylabel='Count'>"
      ]
     },
     "execution_count": 113,
     "metadata": {},
     "output_type": "execute_result"
    },
    {
     "data": {
      "image/png": "[encoded data removed]",
      "text/plain": [
       "<Figure size 432x288 with 1 Axes>"
      ]
     },
     "metadata": {
      "needs_background": "light"
     },
     "output_type": "display_data"
    }
   ],
   "source": [
    "sns.histplot(data = df_sem_duplicados.Age, kde=True)\n"
   ]
  },
  {
   "cell_type": "code",
   "execution_count": 114,
   "id": "17b050ac",
   "metadata": {},
   "outputs": [
    {
     "data": {
      "text/plain": [
       "-0.0013801677709123108"
      ]
     },
     "execution_count": 114,
     "metadata": {},
     "output_type": "execute_result"
    }
   ],
   "source": [
    "df_sem_duplicados.Age.skew()"
   ]
  },
  {
   "cell_type": "markdown",
   "id": "c760ddb1",
   "metadata": {},
   "source": [
    "Valor apesar de negativo está próximo de 0, o que indica que os dados têm distribuição simétrica em relação ao centro."
   ]
  },
  {
   "cell_type": "code",
   "execution_count": 68,
   "id": "8058934b",
   "metadata": {},
   "outputs": [
    {
     "data": {
      "text/plain": [
       "<AxesSubplot:xlabel='Height', ylabel='Count'>"
      ]
     },
     "execution_count": 68,
     "metadata": {},
     "output_type": "execute_result"
    },
    {
     "data": {
      "image/png": "[encoded data removed]",
      "text/plain": [
       "<Figure size 432x288 with 1 Axes>"
      ]
     },
     "metadata": {
      "needs_background": "light"
     },
     "output_type": "display_data"
    }
   ],
   "source": [
    "sns.histplot(data = df_sem_duplicados.Height, kde=True)\n"
   ]
  },
  {
   "cell_type": "code",
   "execution_count": 107,
   "id": "7176f031",
   "metadata": {},
   "outputs": [
    {
     "data": {
      "text/plain": [
       "0.003953909503300535"
      ]
     },
     "execution_count": 107,
     "metadata": {},
     "output_type": "execute_result"
    }
   ],
   "source": [
    "df_sem_duplicados.Height.skew()"
   ]
  },
  {
   "cell_type": "markdown",
   "id": "ba8afc3f",
   "metadata": {},
   "source": [
    "Valor também está próximo de 0 indicando que os dados têm distribuição simétrica em relação ao centro."
   ]
  },
  {
   "cell_type": "code",
   "execution_count": 69,
   "id": "f4202f2f",
   "metadata": {},
   "outputs": [
    {
     "data": {
      "text/plain": [
       "<AxesSubplot:xlabel='Weight', ylabel='Count'>"
      ]
     },
     "execution_count": 69,
     "metadata": {},
     "output_type": "execute_result"
    },
    {
     "data": {
      "image/png": "[encoded data removed]",
      "text/plain": [
       "<Figure size 432x288 with 1 Axes>"
      ]
     },
     "metadata": {
      "needs_background": "light"
     },
     "output_type": "display_data"
    }
   ],
   "source": [
    "sns.histplot(data = df_sem_duplicados.Weight, kde=True)\n"
   ]
  },
  {
   "cell_type": "code",
   "execution_count": 108,
   "id": "587b5817",
   "metadata": {},
   "outputs": [
    {
     "data": {
      "text/plain": [
       "0.004767737252512105"
      ]
     },
     "execution_count": 108,
     "metadata": {},
     "output_type": "execute_result"
    }
   ],
   "source": [
    "df_sem_duplicados.Weight.skew()"
   ]
  },
  {
   "cell_type": "markdown",
   "id": "4f54c8db",
   "metadata": {},
   "source": [
    "Valor também está próximo de 0 indicando que os dados têm distribuição simétrica em relação ao centro."
   ]
  },
  {
   "cell_type": "code",
   "execution_count": 70,
   "id": "f1d3c806",
   "metadata": {},
   "outputs": [
    {
     "data": {
      "text/plain": [
       "<AxesSubplot:xlabel='BMI', ylabel='Count'>"
      ]
     },
     "execution_count": 70,
     "metadata": {},
     "output_type": "execute_result"
    },
    {
     "data": {
      "image/png": "[encoded data removed]",
      "text/plain": [
       "<Figure size 432x288 with 1 Axes>"
      ]
     },
     "metadata": {
      "needs_background": "light"
     },
     "output_type": "display_data"
    }
   ],
   "source": [
    "sns.histplot(data = df_sem_duplicados.BMI, kde=True)\n"
   ]
  },
  {
   "cell_type": "code",
   "execution_count": 109,
   "id": "8ae06ae6",
   "metadata": {},
   "outputs": [
    {
     "data": {
      "text/plain": [
       "0.4634020864261758"
      ]
     },
     "execution_count": 109,
     "metadata": {},
     "output_type": "execute_result"
    }
   ],
   "source": [
    "df_sem_duplicados.BMI.skew()"
   ]
  },
  {
   "cell_type": "markdown",
   "id": "52528172",
   "metadata": {},
   "source": [
    "Valor está positivo indicando que a distribuição tem assimetria positiva, ou seja, a cauda direita é mais longa do que a cauda esquerda."
   ]
  },
  {
   "cell_type": "code",
   "execution_count": 71,
   "id": "656f1dd6",
   "metadata": {},
   "outputs": [
    {
     "data": {
      "text/plain": [
       "<AxesSubplot:xlabel='Temperature', ylabel='Count'>"
      ]
     },
     "execution_count": 71,
     "metadata": {},
     "output_type": "execute_result"
    },
    {
     "data": {
      "image/png": "[encoded data removed]",
      "text/plain": [
       "<Figure size 432x288 with 1 Axes>"
      ]
     },
     "metadata": {
      "needs_background": "light"
     },
     "output_type": "display_data"
    }
   ],
   "source": [
    "sns.histplot(data = df_sem_duplicados.Temperature, kde=True)\n"
   ]
  },
  {
   "cell_type": "code",
   "execution_count": 110,
   "id": "300efba6",
   "metadata": {},
   "outputs": [
    {
     "data": {
      "text/plain": [
       "0.010523641889019936"
      ]
     },
     "execution_count": 110,
     "metadata": {},
     "output_type": "execute_result"
    }
   ],
   "source": [
    "df_sem_duplicados.Temperature.skew()"
   ]
  },
  {
   "cell_type": "markdown",
   "id": "c6b3bf02",
   "metadata": {},
   "source": [
    "Valor também está próximo de 0 indicando que os dados têm distribuição simétrica em relação ao centro."
   ]
  },
  {
   "cell_type": "code",
   "execution_count": 72,
   "id": "bd6d4eeb",
   "metadata": {},
   "outputs": [
    {
     "data": {
      "text/plain": [
       "<AxesSubplot:xlabel='Heart Rate', ylabel='Count'>"
      ]
     },
     "execution_count": 72,
     "metadata": {},
     "output_type": "execute_result"
    },
    {
     "data": {
      "image/png": "[encoded data removed]",
      "text/plain": [
       "<Figure size 432x288 with 1 Axes>"
      ]
     },
     "metadata": {
      "needs_background": "light"
     },
     "output_type": "display_data"
    }
   ],
   "source": [
    "sns.histplot(data = df_sem_duplicados['Heart Rate'], kde=True)\n"
   ]
  },
  {
   "cell_type": "code",
   "execution_count": 111,
   "id": "d50d6a7c",
   "metadata": {},
   "outputs": [
    {
     "data": {
      "text/plain": [
       "-0.001589594482123511"
      ]
     },
     "execution_count": 111,
     "metadata": {},
     "output_type": "execute_result"
    }
   ],
   "source": [
    "df_sem_duplicados['Heart Rate'].skew()"
   ]
  },
  {
   "cell_type": "markdown",
   "id": "4bb04124",
   "metadata": {},
   "source": [
    "Valor apesar de negativo está próximo de 0 indicando que os dados têm distribuição simétrica em relação ao centro."
   ]
  },
  {
   "cell_type": "code",
   "execution_count": 73,
   "id": "6cf5f4fa",
   "metadata": {},
   "outputs": [
    {
     "data": {
      "text/plain": [
       "<AxesSubplot:xlabel='Blood Pressure', ylabel='Count'>"
      ]
     },
     "execution_count": 73,
     "metadata": {},
     "output_type": "execute_result"
    },
    {
     "data": {
      "image/png": "[encoded data removed]",
      "text/plain": [
       "<Figure size 432x288 with 1 Axes>"
      ]
     },
     "metadata": {
      "needs_background": "light"
     },
     "output_type": "display_data"
    }
   ],
   "source": [
    "sns.histplot(data = df_sem_duplicados['Blood Pressure'], kde=True)\n"
   ]
  },
  {
   "cell_type": "code",
   "execution_count": 112,
   "id": "510ff37e",
   "metadata": {},
   "outputs": [
    {
     "data": {
      "text/plain": [
       "-0.004582058228532002"
      ]
     },
     "execution_count": 112,
     "metadata": {},
     "output_type": "execute_result"
    }
   ],
   "source": [
    "df_sem_duplicados['Blood Pressure'].skew()"
   ]
  },
  {
   "cell_type": "markdown",
   "id": "6e44a38c",
   "metadata": {},
   "source": [
    "Valor também está negativo porém próximo de 0 indicando que os dados têm distribuição simétrica em relação ao centro."
   ]
  },
  {
   "cell_type": "markdown",
   "id": "76c1e77c",
   "metadata": {},
   "source": [
    "Aparentemente temos um valor outlier que está dificuldade a retirada dos insighst"
   ]
  },
  {
   "cell_type": "code",
   "execution_count": 85,
   "id": "361a7fa9",
   "metadata": {},
   "outputs": [
    {
     "name": "stderr",
     "output_type": "stream",
     "text": [
      "/var/folders/x9/677608_s3v59vr4xn87k94d40000gn/T/ipykernel_37204/332443270.py:5: UserWarning: Matplotlib is currently using module://matplotlib_inline.backend_inline, which is a non-GUI backend, so cannot show the figure.\n",
      "  fig.show()\n"
     ]
    },
    {
     "data": {
      "image/png": "[encoded data removed]",
      "text/plain": [
       "<Figure size 1080x360 with 2 Axes>"
      ]
     },
     "metadata": {
      "needs_background": "light"
     },
     "output_type": "display_data"
    }
   ],
   "source": [
    "fig, ax = plt.subplots(1,2, figsize=(15,5))\n",
    "sns.countplot(x='Gender', hue='Diabetes', data=df_sem_duplicados, ax=ax[0])\n",
    "sns.countplot(x='Gender', hue='Smoking', data=df_sem_duplicados, ax=ax[1])\n",
    "\n",
    "fig.show()"
   ]
  },
  {
   "cell_type": "markdown",
   "id": "ffc9d470",
   "metadata": {},
   "source": [
    "A maioria dos estudantes femininos e masculinos não são diabéticos e não fumam"
   ]
  },
  {
   "cell_type": "code",
   "execution_count": 86,
   "id": "25542883",
   "metadata": {},
   "outputs": [
    {
     "data": {
      "text/plain": [
       "<AxesSubplot:xlabel='Gender', ylabel='count'>"
      ]
     },
     "execution_count": 86,
     "metadata": {},
     "output_type": "execute_result"
    },
    {
     "data": {
      "image/png": "[encoded data removed]",
      "text/plain": [
       "<Figure size 432x288 with 1 Axes>"
      ]
     },
     "metadata": {
      "needs_background": "light"
     },
     "output_type": "display_data"
    }
   ],
   "source": [
    "sns.countplot(x='Gender', hue='Blood Type', data=df_sem_duplicados)\n"
   ]
  },
  {
   "cell_type": "markdown",
   "id": "bba477b1",
   "metadata": {},
   "source": [
    "A maioria do tipo sanguineo dos estudantes masculinos de medicina são do tipo sanguineo B. Já para as estudantes a quantidade entre pessoas do tipo O e B aparentam ser bem próximos"
   ]
  },
  {
   "cell_type": "code",
   "execution_count": 89,
   "id": "6849fc11",
   "metadata": {},
   "outputs": [
    {
     "data": {
      "text/plain": [
       "<AxesSubplot:xlabel='Heart Rate', ylabel='Count'>"
      ]
     },
     "execution_count": 89,
     "metadata": {},
     "output_type": "execute_result"
    },
    {
     "data": {
      "image/png": "[encoded data removed]",
      "text/plain": [
       "<Figure size 432x288 with 1 Axes>"
      ]
     },
     "metadata": {
      "needs_background": "light"
     },
     "output_type": "display_data"
    }
   ],
   "source": [
    "sns.histplot(data = df_sem_duplicados,x ='Heart Rate',kde=True,hue='Smoking')\n"
   ]
  },
  {
   "cell_type": "code",
   "execution_count": 102,
   "id": "c3afdd98",
   "metadata": {},
   "outputs": [
    {
     "data": {
      "text/plain": [
       "<AxesSubplot:xlabel='Heart Rate', ylabel='Smoking'>"
      ]
     },
     "execution_count": 102,
     "metadata": {},
     "output_type": "execute_result"
    },
    {
     "data": {
      "image/png": "[encoded data removed]",
      "text/plain": [
       "<Figure size 432x288 with 1 Axes>"
      ]
     },
     "metadata": {
      "needs_background": "light"
     },
     "output_type": "display_data"
    }
   ],
   "source": [
    "sns.boxplot(data=df_sem_duplicados, x=\"Heart Rate\", y=\"Smoking\")\n"
   ]
  },
  {
   "cell_type": "code",
   "execution_count": 90,
   "id": "9aacbd8f",
   "metadata": {},
   "outputs": [
    {
     "data": {
      "text/plain": [
       "<AxesSubplot:xlabel='Blood Pressure', ylabel='Count'>"
      ]
     },
     "execution_count": 90,
     "metadata": {},
     "output_type": "execute_result"
    },
    {
     "data": {
      "image/png": "[encoded data removed]",
      "text/plain": [
       "<Figure size 432x288 with 1 Axes>"
      ]
     },
     "metadata": {
      "needs_background": "light"
     },
     "output_type": "display_data"
    }
   ],
   "source": [
    "sns.histplot(data = df_sem_duplicados,x ='Blood Pressure',kde=True,hue='Smoking')\n"
   ]
  },
  {
   "cell_type": "code",
   "execution_count": 101,
   "id": "5f0216d2",
   "metadata": {},
   "outputs": [
    {
     "data": {
      "text/plain": [
       "<AxesSubplot:xlabel='Blood Pressure', ylabel='Smoking'>"
      ]
     },
     "execution_count": 101,
     "metadata": {},
     "output_type": "execute_result"
    },
    {
     "data": {
      "image/png": "[encoded data removed]",
      "text/plain": [
       "<Figure size 432x288 with 1 Axes>"
      ]
     },
     "metadata": {
      "needs_background": "light"
     },
     "output_type": "display_data"
    }
   ],
   "source": [
    "sns.boxplot(data=df_sem_duplicados, x=\"Blood Pressure\", y=\"Smoking\")\n"
   ]
  },
  {
   "cell_type": "code",
   "execution_count": 91,
   "id": "38d91051",
   "metadata": {},
   "outputs": [
    {
     "data": {
      "text/plain": [
       "<AxesSubplot:xlabel='BMI', ylabel='Count'>"
      ]
     },
     "execution_count": 91,
     "metadata": {},
     "output_type": "execute_result"
    },
    {
     "data": {
      "image/png": "[encoded data removed]",
      "text/plain": [
       "<Figure size 432x288 with 1 Axes>"
      ]
     },
     "metadata": {
      "needs_background": "light"
     },
     "output_type": "display_data"
    }
   ],
   "source": [
    "sns.histplot(data = df_sem_duplicados,x ='BMI',kde=True,hue='Smoking')\n"
   ]
  },
  {
   "cell_type": "code",
   "execution_count": 100,
   "id": "1d771aa9",
   "metadata": {},
   "outputs": [
    {
     "data": {
      "text/plain": [
       "<AxesSubplot:xlabel='BMI', ylabel='Smoking'>"
      ]
     },
     "execution_count": 100,
     "metadata": {},
     "output_type": "execute_result"
    },
    {
     "data": {
      "image/png": "[encoded data removed]",
      "text/plain": [
       "<Figure size 432x288 with 1 Axes>"
      ]
     },
     "metadata": {
      "needs_background": "light"
     },
     "output_type": "display_data"
    }
   ],
   "source": [
    "sns.boxplot(data=df_sem_duplicados, x=\"BMI\", y=\"Smoking\")\n"
   ]
  },
  {
   "cell_type": "code",
   "execution_count": 92,
   "id": "0dfd5829",
   "metadata": {},
   "outputs": [
    {
     "data": {
      "text/plain": [
       "<AxesSubplot:xlabel='Cholesterol', ylabel='Count'>"
      ]
     },
     "execution_count": 92,
     "metadata": {},
     "output_type": "execute_result"
    },
    {
     "data": {
      "image/png": "[encoded data removed]",
      "text/plain": [
       "<Figure size 432x288 with 1 Axes>"
      ]
     },
     "metadata": {
      "needs_background": "light"
     },
     "output_type": "display_data"
    }
   ],
   "source": [
    "sns.histplot(data = df_sem_duplicados,x ='Cholesterol',kde=True,hue='Smoking')\n"
   ]
  },
  {
   "cell_type": "code",
   "execution_count": 99,
   "id": "523d5855",
   "metadata": {},
   "outputs": [
    {
     "data": {
      "text/plain": [
       "<AxesSubplot:xlabel='Cholesterol', ylabel='Smoking'>"
      ]
     },
     "execution_count": 99,
     "metadata": {},
     "output_type": "execute_result"
    },
    {
     "data": {
      "image/png": "[encoded data removed]",
      "text/plain": [
       "<Figure size 432x288 with 1 Axes>"
      ]
     },
     "metadata": {
      "needs_background": "light"
     },
     "output_type": "display_data"
    }
   ],
   "source": [
    "sns.boxplot(data=df_sem_duplicados, x=\"Cholesterol\", y=\"Smoking\")\n"
   ]
  },
  {
   "cell_type": "code",
   "execution_count": 93,
   "id": "5b8bcb33",
   "metadata": {},
   "outputs": [
    {
     "name": "stderr",
     "output_type": "stream",
     "text": [
      "/var/folders/x9/677608_s3v59vr4xn87k94d40000gn/T/ipykernel_37204/1137535938.py:5: UserWarning: Matplotlib is currently using module://matplotlib_inline.backend_inline, which is a non-GUI backend, so cannot show the figure.\n",
      "  fig.show()\n"
     ]
    },
    {
     "data": {
      "image/png": "[encoded data removed]",
      "text/plain": [
       "<Figure size 1080x360 with 2 Axes>"
      ]
     },
     "metadata": {
      "needs_background": "light"
     },
     "output_type": "display_data"
    }
   ],
   "source": [
    "fig, ax = plt.subplots(1,2, figsize=(15,5))\n",
    "sns.histplot(data = df_sem_duplicados,x ='Cholesterol',kde=True,hue='Diabetes', ax=ax[0])\n",
    "sns.histplot(data = df_sem_duplicados,x ='BMI',kde=True,hue='Diabetes', ax=ax[1])\n",
    "\n",
    "fig.show()"
   ]
  },
  {
   "cell_type": "code",
   "execution_count": 97,
   "id": "20f3a470",
   "metadata": {},
   "outputs": [
    {
     "data": {
      "text/plain": [
       "<AxesSubplot:xlabel='Cholesterol', ylabel='Diabetes'>"
      ]
     },
     "execution_count": 97,
     "metadata": {},
     "output_type": "execute_result"
    },
    {
     "data": {
      "image/png": "[encoded data removed]",
      "text/plain": [
       "<Figure size 432x288 with 1 Axes>"
      ]
     },
     "metadata": {
      "needs_background": "light"
     },
     "output_type": "display_data"
    }
   ],
   "source": [
    "sns.boxplot(data=df_sem_duplicados, x=\"Cholesterol\", y=\"Diabetes\")\n"
   ]
  },
  {
   "cell_type": "code",
   "execution_count": 98,
   "id": "ff87af02",
   "metadata": {},
   "outputs": [
    {
     "data": {
      "text/plain": [
       "<AxesSubplot:xlabel='BMI', ylabel='Diabetes'>"
      ]
     },
     "execution_count": 98,
     "metadata": {},
     "output_type": "execute_result"
    },
    {
     "data": {
      "image/png": "[encoded data removed]",
      "text/plain": [
       "<Figure size 432x288 with 1 Axes>"
      ]
     },
     "metadata": {
      "needs_background": "light"
     },
     "output_type": "display_data"
    }
   ],
   "source": [
    "sns.boxplot(data=df_sem_duplicados, x=\"BMI\", y=\"Diabetes\")\n"
   ]
  },
  {
   "cell_type": "code",
   "execution_count": 94,
   "id": "be274089",
   "metadata": {},
   "outputs": [
    {
     "name": "stderr",
     "output_type": "stream",
     "text": [
      "/var/folders/x9/677608_s3v59vr4xn87k94d40000gn/T/ipykernel_37204/718656024.py:5: UserWarning: Matplotlib is currently using module://matplotlib_inline.backend_inline, which is a non-GUI backend, so cannot show the figure.\n",
      "  fig.show()\n"
     ]
    },
    {
     "data": {
      "image/png": "[encoded data removed]",
      "text/plain": [
       "<Figure size 1080x360 with 2 Axes>"
      ]
     },
     "metadata": {
      "needs_background": "light"
     },
     "output_type": "display_data"
    }
   ],
   "source": [
    "fig, ax = plt.subplots(1,2, figsize=(15,5))\n",
    "sns.histplot(data = df_sem_duplicados,x ='Blood Pressure',kde=True,hue='Diabetes', ax=ax[0])\n",
    "sns.histplot(data = df_sem_duplicados,x ='Heart Rate',kde=True,hue='Diabetes', ax=ax[1])\n",
    "\n",
    "fig.show()"
   ]
  },
  {
   "cell_type": "code",
   "execution_count": 96,
   "id": "8a423a78",
   "metadata": {},
   "outputs": [
    {
     "data": {
      "text/plain": [
       "<AxesSubplot:xlabel='Blood Pressure', ylabel='Diabetes'>"
      ]
     },
     "execution_count": 96,
     "metadata": {},
     "output_type": "execute_result"
    },
    {
     "data": {
      "image/png": "[encoded data removed]",
      "text/plain": [
       "<Figure size 432x288 with 1 Axes>"
      ]
     },
     "metadata": {
      "needs_background": "light"
     },
     "output_type": "display_data"
    }
   ],
   "source": [
    "sns.boxplot(data=df_sem_duplicados, x=\"Blood Pressure\", y=\"Diabetes\")\n"
   ]
  },
  {
   "cell_type": "code",
   "execution_count": 95,
   "id": "171a51fb",
   "metadata": {},
   "outputs": [
    {
     "data": {
      "text/plain": [
       "<AxesSubplot:xlabel='Heart Rate', ylabel='Diabetes'>"
      ]
     },
     "execution_count": 95,
     "metadata": {},
     "output_type": "execute_result"
    },
    {
     "data": {
      "image/png": "[encoded data removed]",
      "text/plain": [
       "<Figure size 432x288 with 1 Axes>"
      ]
     },
     "metadata": {
      "needs_background": "light"
     },
     "output_type": "display_data"
    }
   ],
   "source": [
    "sns.boxplot(data=df_sem_duplicados, x=\"Heart Rate\", y=\"Diabetes\")\n",
    "\n"
   ]
  },
  {
   "cell_type": "markdown",
   "id": "83402072",
   "metadata": {},
   "source": [
    "Em todas essas distribuições não conseguimos enxergar visualmente uma correlação entre os estudantes ser diabético ou não, e se é fumante ou não, com as outras variáveis numéricas: Heart Rate, Blood Pressure, BMI, Cholesterol. Isso pode ser identificado tanto nos boxplot quanto nos histogramas"
   ]
  },
  {
   "cell_type": "code",
   "execution_count": 105,
   "id": "73dc52a5",
   "metadata": {},
   "outputs": [
    {
     "name": "stderr",
     "output_type": "stream",
     "text": [
      "/var/folders/x9/677608_s3v59vr4xn87k94d40000gn/T/ipykernel_37204/3771041016.py:5: UserWarning: Matplotlib is currently using module://matplotlib_inline.backend_inline, which is a non-GUI backend, so cannot show the figure.\n",
      "  fig.show()\n"
     ]
    },
    {
     "data": {
      "image/png": "[encoded data removed]",
      "text/plain": [
       "<Figure size 1080x360 with 2 Axes>"
      ]
     },
     "metadata": {
      "needs_background": "light"
     },
     "output_type": "display_data"
    }
   ],
   "source": [
    "fig, ax = plt.subplots(1,2, figsize=(15,5))\n",
    "sns.boxplot(data = df_sem_duplicados,x=\"Heart Rate\", y=\"Gender\", ax=ax[0])\n",
    "sns.boxplot(data = df_sem_duplicados,x ='Blood Pressure',y='Gender', ax=ax[1])\n",
    "\n",
    "fig.show()"
   ]
  },
  {
   "cell_type": "code",
   "execution_count": 106,
   "id": "cbbf6754",
   "metadata": {},
   "outputs": [
    {
     "name": "stderr",
     "output_type": "stream",
     "text": [
      "/var/folders/x9/677608_s3v59vr4xn87k94d40000gn/T/ipykernel_37204/171022713.py:5: UserWarning: Matplotlib is currently using module://matplotlib_inline.backend_inline, which is a non-GUI backend, so cannot show the figure.\n",
      "  fig.show()\n"
     ]
    },
    {
     "data": {
      "image/png": "[encoded data removed]",
      "text/plain": [
       "<Figure size 1080x360 with 2 Axes>"
      ]
     },
     "metadata": {
      "needs_background": "light"
     },
     "output_type": "display_data"
    }
   ],
   "source": [
    "fig, ax = plt.subplots(1,2, figsize=(15,5))\n",
    "sns.boxplot(data = df_sem_duplicados,x=\"Cholesterol\", y=\"Gender\", ax=ax[0])\n",
    "sns.boxplot(data = df_sem_duplicados,x ='BMI',y='Gender', ax=ax[1])\n",
    "\n",
    "fig.show()"
   ]
  },
  {
   "cell_type": "markdown",
   "id": "432d6198",
   "metadata": {},
   "source": [
    "Os dados aparentam não estarem tão confiáveis pois pela distribuição dos dados não há diferença entre homens e mulheres por exemplo da massa corporal da pessoal, frequência cardíaca e pressão sanguinea. O que sabemos que há diferença entre os gêneros quando envolve informações biológicas"
   ]
  },
  {
   "cell_type": "code",
   "execution_count": 116,
   "id": "77ca8750",
   "metadata": {},
   "outputs": [
    {
     "data": {
      "text/plain": [
       "Male             44600\n",
       "Female           44519\n",
       "Não informado     9857\n",
       "Name: Gender, dtype: int64"
      ]
     },
     "execution_count": 116,
     "metadata": {},
     "output_type": "execute_result"
    }
   ],
   "source": [
    "df_sem_duplicados.Gender.value_counts()"
   ]
  },
  {
   "cell_type": "code",
   "execution_count": 119,
   "id": "dcaed18a",
   "metadata": {},
   "outputs": [
    {
     "data": {
      "text/plain": [
       "Series([], Name: Age, dtype: int64)"
      ]
     },
     "execution_count": 119,
     "metadata": {},
     "output_type": "execute_result"
    }
   ],
   "source": [
    "class_female = df_sem_duplicados.loc[df_sem_duplicados['Gender'] == ][\"Age\"]\n",
    "class_female"
   ]
  },
  {
   "cell_type": "code",
   "execution_count": 120,
   "id": "3c12986e",
   "metadata": {},
   "outputs": [
    {
     "name": "stderr",
     "output_type": "stream",
     "text": [
      "/Users/lauradamaceno/opt/anaconda3/lib/python3.9/site-packages/seaborn/distributions.py:2619: FutureWarning: `distplot` is a deprecated function and will be removed in a future version. Please adapt your code to use either `displot` (a figure-level function with similar flexibility) or `histplot` (an axes-level function for histograms).\n",
      "  warnings.warn(msg, FutureWarning)\n",
      "/Users/lauradamaceno/opt/anaconda3/lib/python3.9/site-packages/seaborn/distributions.py:2619: FutureWarning: `distplot` is a deprecated function and will be removed in a future version. Please adapt your code to use either `displot` (a figure-level function with similar flexibility) or `histplot` (an axes-level function for histograms).\n",
      "  warnings.warn(msg, FutureWarning)\n"
     ]
    },
    {
     "data": {
      "image/png": "[encoded data removed]",
      "text/plain": [
       "<Figure size 1008x432 with 1 Axes>"
      ]
     },
     "metadata": {
      "needs_background": "light"
     },
     "output_type": "display_data"
    }
   ],
   "source": [
    "class_male = df_sem_duplicados.loc[df_sem_duplicados['Gender'] == 'Male'][\"Age\"]\n",
    "class_female = df_sem_duplicados.loc[df_sem_duplicados['Gender'] == 'Female'][\"Age\"]\n",
    "plt.figure(figsize = (14,6))\n",
    "plt.title('Distribuição da idade por gênero')\n",
    "sns.distplot(class_male,kde=True,bins=200, color=\"green\")\n",
    "sns.distplot(class_female,kde=True,bins=200, color=\"red\")\n",
    "plt.show()"
   ]
  },
  {
   "cell_type": "markdown",
   "id": "c71c1fa3",
   "metadata": {},
   "source": [
    "Aparenta não ter diferença de idade entre os gêneros"
   ]
  },
  {
   "cell_type": "markdown",
   "id": "b83fa5d4",
   "metadata": {},
   "source": [
    "<div style=\"text-align:right;\">\n",
    "Laura Damacenode Almeida\n",
    "    <br>\n"
   ]
  },
  {
   "cell_type": "code",
   "execution_count": null,
   "id": "47b95188",
   "metadata": {},
   "outputs": [],
   "source": []
  }
 ],
 "metadata": {
  "kernelspec": {
   "display_name": "Python 3 (ipykernel)",
   "language": "python",
   "name": "python3"
  },
  "language_info": {
   "codemirror_mode": {
    "name": "ipython",
    "version": 3
   },
   "file_extension": ".py",
   "mimetype": "text/x-python",
   "name": "python",
   "nbconvert_exporter": "python",
   "pygments_lexer": "ipython3",
   "version": "3.9.12"
  }
 },
 "nbformat": 4,
 "nbformat_minor": 5
}
